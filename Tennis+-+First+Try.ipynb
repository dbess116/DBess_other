{
 "cells": [
  {
   "cell_type": "code",
   "execution_count": 1,
   "metadata": {
    "collapsed": true
   },
   "outputs": [],
   "source": [
    "import numpy as np              #standard imports\n",
    "import scipy as sc\n",
    "import pandas as pd\n",
    "import matplotlib as plt\n",
    "%matplotlib inline"
   ]
  },
  {
   "cell_type": "code",
   "execution_count": 2,
   "metadata": {
    "collapsed": false
   },
   "outputs": [
    {
     "data": {
      "text/html": [
       "<div>\n",
       "<table border=\"1\" class=\"dataframe\">\n",
       "  <thead>\n",
       "    <tr style=\"text-align: right;\">\n",
       "      <th></th>\n",
       "      <th>Number of Upsets 2011</th>\n",
       "    </tr>\n",
       "    <tr>\n",
       "      <th>surface</th>\n",
       "      <th></th>\n",
       "    </tr>\n",
       "  </thead>\n",
       "  <tbody>\n",
       "    <tr>\n",
       "      <th>Grass</th>\n",
       "      <td>4</td>\n",
       "    </tr>\n",
       "    <tr>\n",
       "      <th>Hard</th>\n",
       "      <td>7</td>\n",
       "    </tr>\n",
       "  </tbody>\n",
       "</table>\n",
       "</div>"
      ],
      "text/plain": [
       "         Number of Upsets 2011\n",
       "surface                       \n",
       "Grass                        4\n",
       "Hard                         7"
      ]
     },
     "execution_count": 2,
     "metadata": {},
     "output_type": "execute_result"
    }
   ],
   "source": [
    "####### 2011 UPSETS #######\n",
    "tennis_2011 = pd.read_csv(\"../tennis_atp/atp_matches_2011.csv\")     #imports file#\n",
    "tennis_2011 = tennis_2011.drop(['tourney_id','tourney_name','tourney_level','draw_size','round','match_num','winner_ht',\n",
    "                                'loser_ht','winner_ioc','loser_ioc','w_svpt','l_svpt','w_SvGms','l_SvGms','w_1stWon','l_1stWon',\n",
    "                                'w_2ndWon','l_2ndWon','w_df','l_df','minutes','winner_rank_points','loser_rank_points',\n",
    "                                'winner_entry','loser_entry','w_SvGms','l_SvGms','winner_id','loser_id','w_1stIn','l_1stIn'],\n",
    "                               axis = 1)                #omits irrelevant columns#\n",
    "upsets_2011 = tennis_2011[tennis_2011['winner_rank'] - 300 > tennis_2011['loser_rank']]\n",
    "#selects only largest upsets of 300+ rank difference#\n",
    "upsets_2011 = upsets_2011[upsets_2011['loser_rank'] <= 100]      #restricts upsets to losers with top 100 rank#\n",
    "upsets_2011 = upsets_2011.drop(['tourney_date','winner_age','winner_seed','winner_hand','winner_rank','loser_seed','loser_name',\n",
    "                                'loser_hand','loser_age','loser_rank','score','best_of','w_ace','w_bpSaved','w_bpFaced','l_ace',\n",
    "                                'l_bpSaved','l_bpFaced'], axis = 1)   #omits irrelevant columns#\n",
    "upsets_2011 = upsets_2011.groupby(['surface']).count()\n",
    "upsets_2011.columns = ['Number of Upsets 2011']   #formats columns name#\n",
    "upsets_2011"
   ]
  },
  {
   "cell_type": "code",
   "execution_count": 3,
   "metadata": {
    "collapsed": false
   },
   "outputs": [
    {
     "data": {
      "text/html": [
       "<div>\n",
       "<table border=\"1\" class=\"dataframe\">\n",
       "  <thead>\n",
       "    <tr style=\"text-align: right;\">\n",
       "      <th></th>\n",
       "      <th>Number of Upsets 2012</th>\n",
       "    </tr>\n",
       "    <tr>\n",
       "      <th>surface</th>\n",
       "      <th></th>\n",
       "    </tr>\n",
       "  </thead>\n",
       "  <tbody>\n",
       "    <tr>\n",
       "      <th>Carpet</th>\n",
       "      <td>1</td>\n",
       "    </tr>\n",
       "    <tr>\n",
       "      <th>Clay</th>\n",
       "      <td>8</td>\n",
       "    </tr>\n",
       "    <tr>\n",
       "      <th>Grass</th>\n",
       "      <td>1</td>\n",
       "    </tr>\n",
       "    <tr>\n",
       "      <th>Hard</th>\n",
       "      <td>7</td>\n",
       "    </tr>\n",
       "  </tbody>\n",
       "</table>\n",
       "</div>"
      ],
      "text/plain": [
       "         Number of Upsets 2012\n",
       "surface                       \n",
       "Carpet                       1\n",
       "Clay                         8\n",
       "Grass                        1\n",
       "Hard                         7"
      ]
     },
     "execution_count": 3,
     "metadata": {},
     "output_type": "execute_result"
    }
   ],
   "source": [
    "####### 2012 UPSETS #######\n",
    "tennis_2012 = pd.read_csv(\"../tennis_atp/atp_matches_2012.csv\")      #imports file#\n",
    "tennis_2012 = tennis_2012.drop(['tourney_id','tourney_name','tourney_level','draw_size','round','match_num','winner_ht',\n",
    "                                'loser_ht','winner_ioc','loser_ioc','w_svpt','l_svpt','w_SvGms','l_SvGms','w_1stWon','l_1stWon',\n",
    "                                'w_2ndWon','l_2ndWon','w_df','l_df','minutes','winner_rank_points','loser_rank_points',\n",
    "                                'winner_entry','loser_entry','w_SvGms','l_SvGms','winner_id','loser_id','w_1stIn','l_1stIn'],\n",
    "                               axis = 1)                 #omits irrelevant columns#\n",
    "upsets_2012 = tennis_2012[tennis_2012['winner_rank'] - 300 > tennis_2012['loser_rank']]\n",
    "#selects only largest upsets of 300+ rank difference#\n",
    "upsets_2012 = upsets_2012[upsets_2012['loser_rank'] <= 100]     #restricts upsets to losers with top 100 rank#\n",
    "upsets_2012 = upsets_2012.drop(['tourney_date','winner_age','winner_seed','winner_hand','winner_rank','loser_seed','loser_name',\n",
    "                                'loser_hand','loser_age','loser_rank','score','best_of','w_ace','w_bpSaved','w_bpFaced','l_ace',\n",
    "                                'l_bpSaved','l_bpFaced'], axis = 1)   #omits irrelevant columns#\n",
    "upsets_2012 = upsets_2012.groupby(['surface']).count()        #groups row entries by surface#\n",
    "upsets_2012.columns = ['Number of Upsets 2012']   #formats columns name#\n",
    "upsets_2012"
   ]
  },
  {
   "cell_type": "code",
   "execution_count": 4,
   "metadata": {
    "collapsed": false
   },
   "outputs": [
    {
     "data": {
      "text/html": [
       "<div>\n",
       "<table border=\"1\" class=\"dataframe\">\n",
       "  <thead>\n",
       "    <tr style=\"text-align: right;\">\n",
       "      <th></th>\n",
       "      <th>Number of Upsets 2013</th>\n",
       "    </tr>\n",
       "    <tr>\n",
       "      <th>surface</th>\n",
       "      <th></th>\n",
       "    </tr>\n",
       "  </thead>\n",
       "  <tbody>\n",
       "    <tr>\n",
       "      <th>Grass</th>\n",
       "      <td>1</td>\n",
       "    </tr>\n",
       "    <tr>\n",
       "      <th>Hard</th>\n",
       "      <td>9</td>\n",
       "    </tr>\n",
       "  </tbody>\n",
       "</table>\n",
       "</div>"
      ],
      "text/plain": [
       "         Number of Upsets 2013\n",
       "surface                       \n",
       "Grass                        1\n",
       "Hard                         9"
      ]
     },
     "execution_count": 4,
     "metadata": {},
     "output_type": "execute_result"
    }
   ],
   "source": [
    "####### 2013 UPSETS #######\n",
    "tennis_2013 = pd.read_csv(\"../tennis_atp/atp_matches_2013.csv\")      #imports file#\n",
    "tennis_2013 = tennis_2013.drop(['tourney_id','tourney_name','tourney_level','draw_size','round','match_num','winner_ht',\n",
    "                                'loser_ht','winner_ioc','loser_ioc','w_svpt','l_svpt','w_SvGms','l_SvGms','w_1stWon','l_1stWon',\n",
    "                                'w_2ndWon','l_2ndWon','w_df','l_df','minutes','winner_rank_points','loser_rank_points',\n",
    "                                'winner_entry','loser_entry','w_SvGms','l_SvGms','winner_id','loser_id','w_1stIn','l_1stIn'],\n",
    "                               axis = 1)                 #omits irrelevant columns#\n",
    "upsets_2013 = tennis_2013[tennis_2013['winner_rank'] - 300 > tennis_2013['loser_rank']]\n",
    "#selects only largest upsets of 300+ rank difference#\n",
    "upsets_2013 = upsets_2013[upsets_2013['loser_rank'] <= 100]     #restricts upsets to losers with top 100 rank#\n",
    "upsets_2013 = upsets_2013.drop(['tourney_date','winner_age','winner_seed','winner_hand','winner_rank','loser_seed','loser_name',\n",
    "                                'loser_hand','loser_age','loser_rank','score','best_of','w_ace','w_bpSaved','w_bpFaced','l_ace',\n",
    "                                'l_bpSaved','l_bpFaced'], axis = 1)   #omits irrelevant columns#\n",
    "upsets_2013 = upsets_2013.groupby(['surface']).count()        #groups row entries by surface#\n",
    "upsets_2013.columns = ['Number of Upsets 2013']   #formats columns name#\n",
    "upsets_2013"
   ]
  },
  {
   "cell_type": "code",
   "execution_count": 5,
   "metadata": {
    "collapsed": false
   },
   "outputs": [
    {
     "data": {
      "text/html": [
       "<div>\n",
       "<table border=\"1\" class=\"dataframe\">\n",
       "  <thead>\n",
       "    <tr style=\"text-align: right;\">\n",
       "      <th></th>\n",
       "      <th>Number of Upsets 2014</th>\n",
       "    </tr>\n",
       "    <tr>\n",
       "      <th>surface</th>\n",
       "      <th></th>\n",
       "    </tr>\n",
       "  </thead>\n",
       "  <tbody>\n",
       "    <tr>\n",
       "      <th>Clay</th>\n",
       "      <td>6</td>\n",
       "    </tr>\n",
       "    <tr>\n",
       "      <th>Grass</th>\n",
       "      <td>1</td>\n",
       "    </tr>\n",
       "    <tr>\n",
       "      <th>Hard</th>\n",
       "      <td>4</td>\n",
       "    </tr>\n",
       "  </tbody>\n",
       "</table>\n",
       "</div>"
      ],
      "text/plain": [
       "         Number of Upsets 2014\n",
       "surface                       \n",
       "Clay                         6\n",
       "Grass                        1\n",
       "Hard                         4"
      ]
     },
     "execution_count": 5,
     "metadata": {},
     "output_type": "execute_result"
    }
   ],
   "source": [
    "####### 2014 UPSETS #######\n",
    "tennis_2014 = pd.read_csv(\"../tennis_atp/atp_matches_2014.csv\")      #imports file#\n",
    "tennis_2014 = tennis_2014.drop(['tourney_id','tourney_name','tourney_level','draw_size','round','match_num','winner_ht',\n",
    "                                'loser_ht','winner_ioc','loser_ioc','w_svpt','l_svpt','w_SvGms','l_SvGms','w_1stWon','l_1stWon',\n",
    "                                'w_2ndWon','l_2ndWon','w_df','l_df','minutes','winner_rank_points','loser_rank_points',\n",
    "                                'winner_entry','loser_entry','w_SvGms','l_SvGms','winner_id','loser_id','w_1stIn','l_1stIn'],\n",
    "                               axis = 1)                 #omits irrelevant columns#\n",
    "upsets_2014 = tennis_2014[tennis_2014['winner_rank'] - 300 > tennis_2014['loser_rank']]\n",
    "#selects only largest upsets of 300+ rank difference#\n",
    "upsets_2014 = upsets_2014[upsets_2014['loser_rank'] <= 100]     #restricts upsets to losers with top 100 rank#\n",
    "upsets_2014 = upsets_2014.drop(['tourney_date','winner_age','winner_seed','winner_hand','winner_rank','loser_seed','loser_name',\n",
    "                                'loser_hand','loser_age','loser_rank','score','best_of','w_ace','w_bpSaved','w_bpFaced','l_ace',\n",
    "                                'l_bpSaved','l_bpFaced'], axis = 1)   #omits irrelevant columns#\n",
    "upsets_2014 = upsets_2014.groupby(['surface']).count()        #groups row entries by surface#\n",
    "upsets_2014.columns = ['Number of Upsets 2014']   #formats columns name#\n",
    "upsets_2014"
   ]
  },
  {
   "cell_type": "code",
   "execution_count": 6,
   "metadata": {
    "collapsed": false
   },
   "outputs": [
    {
     "data": {
      "text/html": [
       "<div>\n",
       "<table border=\"1\" class=\"dataframe\">\n",
       "  <thead>\n",
       "    <tr style=\"text-align: right;\">\n",
       "      <th></th>\n",
       "      <th>Number of Upsets 2015</th>\n",
       "    </tr>\n",
       "    <tr>\n",
       "      <th>surface</th>\n",
       "      <th></th>\n",
       "    </tr>\n",
       "  </thead>\n",
       "  <tbody>\n",
       "    <tr>\n",
       "      <th>Clay</th>\n",
       "      <td>4</td>\n",
       "    </tr>\n",
       "    <tr>\n",
       "      <th>Grass</th>\n",
       "      <td>5</td>\n",
       "    </tr>\n",
       "    <tr>\n",
       "      <th>Hard</th>\n",
       "      <td>5</td>\n",
       "    </tr>\n",
       "  </tbody>\n",
       "</table>\n",
       "</div>"
      ],
      "text/plain": [
       "         Number of Upsets 2015\n",
       "surface                       \n",
       "Clay                         4\n",
       "Grass                        5\n",
       "Hard                         5"
      ]
     },
     "execution_count": 6,
     "metadata": {},
     "output_type": "execute_result"
    }
   ],
   "source": [
    "####### 2015 UPSETS #######\n",
    "tennis_2015 = pd.read_csv(\"../tennis_atp/atp_matches_2015.csv\")      #imports file#\n",
    "tennis_2015 = tennis_2015.drop(['tourney_id','tourney_name','tourney_level','draw_size','round','match_num','winner_ht',\n",
    "                                'loser_ht','winner_ioc','loser_ioc','w_svpt','l_svpt','w_SvGms','l_SvGms','w_1stWon','l_1stWon',\n",
    "                                'w_2ndWon','l_2ndWon','w_df','l_df','minutes','winner_rank_points','loser_rank_points',\n",
    "                                'winner_entry','loser_entry','w_SvGms','l_SvGms','winner_id','loser_id','w_1stIn','l_1stIn'],\n",
    "                               axis = 1)                 #omits irrelevant columns#\n",
    "upsets_2015 = tennis_2015[tennis_2015['winner_rank'] - 300 > tennis_2015['loser_rank']]\n",
    "#selects only largest upsets of 300+ rank difference#\n",
    "upsets_2015 = upsets_2015[upsets_2015['loser_rank'] <= 100]     #restricts upsets to losers with top 100 rank#\n",
    "upsets_2015 = upsets_2015.drop(['tourney_date','winner_age','winner_seed','winner_hand','winner_rank','loser_seed','loser_name',\n",
    "                                'loser_hand','loser_age','loser_rank','score','best_of','w_ace','w_bpSaved','w_bpFaced','l_ace',\n",
    "                                'l_bpSaved','l_bpFaced'], axis = 1)   #omits irrelevant columns#\n",
    "upsets_2015 = upsets_2015.groupby(['surface']).count()        #groups row entries by surface#\n",
    "upsets_2015.columns = ['Number of Upsets 2015']   #formats columns name#\n",
    "upsets_2015"
   ]
  },
  {
   "cell_type": "code",
   "execution_count": 7,
   "metadata": {
    "collapsed": false
   },
   "outputs": [
    {
     "data": {
      "text/html": [
       "<div>\n",
       "<table border=\"1\" class=\"dataframe\">\n",
       "  <thead>\n",
       "    <tr style=\"text-align: right;\">\n",
       "      <th></th>\n",
       "      <th>Number of Upsets 2016</th>\n",
       "    </tr>\n",
       "    <tr>\n",
       "      <th>surface</th>\n",
       "      <th></th>\n",
       "    </tr>\n",
       "  </thead>\n",
       "  <tbody>\n",
       "    <tr>\n",
       "      <th>Hard</th>\n",
       "      <td>2</td>\n",
       "    </tr>\n",
       "  </tbody>\n",
       "</table>\n",
       "</div>"
      ],
      "text/plain": [
       "         Number of Upsets 2016\n",
       "surface                       \n",
       "Hard                         2"
      ]
     },
     "execution_count": 7,
     "metadata": {},
     "output_type": "execute_result"
    }
   ],
   "source": [
    "####### 2016 UPSETS #######\n",
    "tennis_2016 = pd.read_csv(\"../tennis_atp/atp_matches_2016.csv\")      #imports file#\n",
    "tennis_2016 = tennis_2016.drop(['tourney_id','tourney_name','tourney_level','draw_size','round','match_num','winner_ht',\n",
    "                                'loser_ht','winner_ioc','loser_ioc','w_svpt','l_svpt','w_SvGms','l_SvGms','w_1stWon','l_1stWon',\n",
    "                                'w_2ndWon','l_2ndWon','w_df','l_df','minutes','winner_rank_points','loser_rank_points',\n",
    "                                'winner_entry','loser_entry','w_SvGms','l_SvGms','winner_id','loser_id','w_1stIn','l_1stIn'],\n",
    "                               axis = 1)                 #omits irrelevant columns#\n",
    "upsets_2016 = tennis_2016[tennis_2016['winner_rank'] - 300 > tennis_2016['loser_rank']]\n",
    "#selects only largest upsets of 300+ rank difference#\n",
    "upsets_2016 = upsets_2016[upsets_2016['loser_rank'] <= 100]     #restricts upsets to losers with top 100 rank#\n",
    "upsets_2016 = upsets_2016.drop(['tourney_date','winner_age','winner_seed','winner_hand','winner_rank','loser_seed','loser_name',\n",
    "                                'loser_hand','loser_age','loser_rank','score','best_of','w_ace','w_bpSaved','w_bpFaced','l_ace',\n",
    "                                'l_bpSaved','l_bpFaced'], axis = 1)   #omits irrelevant columns#\n",
    "upsets_2016 = upsets_2016.groupby(['surface']).count()        #groups row entries by surface#\n",
    "upsets_2016.columns = ['Number of Upsets 2016']   #formats columns name#\n",
    "upsets_2016\n",
    "\n",
    "#Note: there are so few upsets for 2016 since tennis data is only updated through a few months into the year.#"
   ]
  },
  {
   "cell_type": "code",
   "execution_count": 8,
   "metadata": {
    "collapsed": false
   },
   "outputs": [
    {
     "data": {
      "text/html": [
       "<div>\n",
       "<table border=\"1\" class=\"dataframe\">\n",
       "  <thead>\n",
       "    <tr style=\"text-align: right;\">\n",
       "      <th></th>\n",
       "      <th>Total Upsets 2011 - 2016</th>\n",
       "    </tr>\n",
       "  </thead>\n",
       "  <tbody>\n",
       "    <tr>\n",
       "      <th>Carpet</th>\n",
       "      <td>1.0</td>\n",
       "    </tr>\n",
       "    <tr>\n",
       "      <th>Clay</th>\n",
       "      <td>18.0</td>\n",
       "    </tr>\n",
       "    <tr>\n",
       "      <th>Grass</th>\n",
       "      <td>12.0</td>\n",
       "    </tr>\n",
       "    <tr>\n",
       "      <th>Hard</th>\n",
       "      <td>34.0</td>\n",
       "    </tr>\n",
       "  </tbody>\n",
       "</table>\n",
       "</div>"
      ],
      "text/plain": [
       "        Total Upsets 2011 - 2016\n",
       "Carpet                       1.0\n",
       "Clay                        18.0\n",
       "Grass                       12.0\n",
       "Hard                        34.0"
      ]
     },
     "execution_count": 8,
     "metadata": {},
     "output_type": "execute_result"
    }
   ],
   "source": [
    "upsets_2011_2016 = upsets_2011.join([upsets_2012, upsets_2013, upsets_2014, upsets_2015, upsets_2016], how='outer')\n",
    "upsets_2011_2016 = upsets_2011_2016.fillna(0)\n",
    "upsets_2011_2016['Total Upsets 2011 - 2016'] = upsets_2011_2016.sum(axis=1)\n",
    "upsets_2011_2016 = upsets_2011_2016.drop(['Number of Upsets 2011','Number of Upsets 2012','Number of Upsets 2013',\n",
    "                                          'Number of Upsets 2013','Number of Upsets 2014','Number of Upsets 2015',\n",
    "                                          'Number of Upsets 2016'], axis = 1)\n",
    "upsets_2011_2016"
   ]
  },
  {
   "cell_type": "code",
   "execution_count": null,
   "metadata": {
    "collapsed": true
   },
   "outputs": [],
   "source": []
  }
 ],
 "metadata": {
  "anaconda-cloud": {},
  "kernelspec": {
   "display_name": "Python [conda root]",
   "language": "python",
   "name": "conda-root-py"
  },
  "language_info": {
   "codemirror_mode": {
    "name": "ipython",
    "version": 3
   },
   "file_extension": ".py",
   "mimetype": "text/x-python",
   "name": "python",
   "nbconvert_exporter": "python",
   "pygments_lexer": "ipython3",
   "version": "3.5.2"
  }
 },
 "nbformat": 4,
 "nbformat_minor": 1
}
