{
 "cells": [
  {
   "cell_type": "markdown",
   "metadata": {},
   "source": [
    "# Extract fars person files from the yearly dbf zip archives\n",
    "\n",
    "Every archive contains a file with one record per person containing person level data elements\n",
    "\n",
    "The variables YEAR and ST_CASE uniquely identify an person\n",
    "\n",
    "The name is usually some variant of 'person.dbf'\n",
    "\n",
    "The combined output is 'PERSONS.csv'"
   ]
  },
  {
   "cell_type": "code",
   "execution_count": 19,
   "metadata": {
    "collapsed": true
   },
   "outputs": [],
   "source": [
    "import pysal as ps\n",
    "import pandas as pd\n",
    "import zipfile as zf\n",
    "import dbfread as dr\n",
    "import datetime as dt"
   ]
  },
  {
   "cell_type": "code",
   "execution_count": 48,
   "metadata": {
    "collapsed": false
   },
   "outputs": [],
   "source": [
    "def readfars (year,zipfile,dbffile):\n",
    "    z=zf.ZipFile(zipfile,'r')                                       #open the fars dbf zip archive\n",
    "    z.extract(dbffile)\n",
    "    dbf = dr.DBF(dbffile,char_decode_errors='ignore')\n",
    "    print(dbf.field_names)\n",
    "    \n",
    "    ddict={}\n",
    "    ddict['Year']       = [None]*len(dbf)\n",
    "    ddict['Persno']     = [None]*len(dbf)\n",
    "    ddict['Perstype']   = [None]*len(dbf)\n",
    "    ddict['Seatpos']    = [None]*len(dbf)\n",
    "    ddict['Vehno']      = [None]*len(dbf)\n",
    "    ddict['Age']        = [None]*len(dbf)\n",
    "    ddict['Sex']        = [None]*len(dbf)\n",
    "    ddict['Ejected']    = [None]*len(dbf)\n",
    "    ddict['Injsev']     = [None]*len(dbf)\n",
    "    ddict['Alcres']     = [None]*len(dbf)\n",
    "    ddict['Airbag']     = [None]*len(dbf)\n",
    "    ddict['Drinking']   = [None]*len(dbf)\n",
    "    ddict['Case']       = [None]*len(dbf)\n",
    "    ddict['ID']         = [None]*len(dbf)\n",
    "    \n",
    "    i=0\n",
    "    \n",
    "    for line in iter(dbf):\n",
    "        ddict['Year'][i]        = year\n",
    "        ddict['Persno'][i]      = int(line['PER_NO'])\n",
    "        ddict['Perstype'][i]    = int(line['PER_TYP'])\n",
    "        ddict['Seatpos'][i]     = int(line['SEAT_POS'])\n",
    "        ddict['Vehno'][i]       = int(line['VEH_NO'])\n",
    "        ddict['Age'][i]         = int(line['AGE'])\n",
    "        ddict['Sex'][i]         = int(line['SEX'])\n",
    "        ddict['Ejected'][i]     = int(line['EJECTION'])\n",
    "        try: \n",
    "            ddict['Alcres'][i]      = int(line['ALC_RES'])\n",
    "        except KeyError:\n",
    "            ddict['Alcres'][i]      = None\n",
    "        try: \n",
    "            ddict['Airbag'][i]      = int(line['AIR_BAG'])\n",
    "        except KeyError:\n",
    "            ddict['Airbag'][i]      = None\n",
    "        ddict['Injsev'][i]      = int(line['INJ_SEV'])\n",
    "        try:\n",
    "            ddict['Drinking'][i]    = int(line['DRINKING'])\n",
    "        except TypeError:\n",
    "            ddict['Drinking'][i]    = None\n",
    "        ddict['Case'][i]        = int(line['ST_CASE'])\n",
    "        ddict['ID'][i]          = year*1000000 + int(line['ST_CASE'])\n",
    "        i=i+1\n",
    "    PERSONS = pd.DataFrame(ddict)\n",
    "    print(PERSONS.head())\n",
    "    print(PERSONS.shape)\n",
    "    return(PERSONS)"
   ]
  },
  {
   "cell_type": "code",
   "execution_count": 21,
   "metadata": {
    "collapsed": false
   },
   "outputs": [
    {
     "name": "stdout",
     "output_type": "stream",
     "text": [
      "['STATE', 'ST_CASE', 'VE_FORMS', 'VEH_NO', 'PER_NO', 'STR_VEH', 'COUNTY', 'DAY', 'MONTH', 'HOUR', 'MINUTE', 'RUR_URB', 'FUNC_SYS', 'HARM_EV', 'MAN_COLL', 'SCH_BUS', 'MAKE', 'MAK_MOD', 'BODY_TYP', 'MOD_YEAR', 'TOW_VEH', 'SPEC_USE', 'EMER_USE', 'ROLLOVER', 'IMPACT1', 'FIRE_EXP', 'AGE', 'SEX', 'PER_TYP', 'INJ_SEV', 'SEAT_POS', 'REST_USE', 'REST_MIS', 'AIR_BAG', 'EJECTION', 'EJ_PATH', 'EXTRICAT', 'DRINKING', 'ALC_DET', 'ALC_STATUS', 'ATST_TYP', 'ALC_RES', 'DRUGS', 'DRUG_DET', 'DSTATUS', 'DRUGTST1', 'DRUGTST2', 'DRUGTST3', 'DRUGRES1', 'DRUGRES2', 'DRUGRES3', 'HOSPITAL', 'DOA', 'DEATH_DA', 'DEATH_MO', 'DEATH_YR', 'DEATH_HR', 'DEATH_MN', 'DEATH_TM', 'LAG_HRS', 'LAG_MINS', 'P_SF1', 'P_SF2', 'P_SF3', 'WORK_INJ', 'HISPANIC', 'RACE', 'LOCATION']\n",
      "   Age  Airbag  Alcres   Case  Drinking  Ejected          ID  Injsev  Persno  \\\n",
      "0   68       1     189  10001         9        0  2015010001       4       1   \n",
      "1   49      20       0  10002         0        1  2015010002       4       1   \n",
      "2   31       1     188  10003         1        0  2015010003       4       1   \n",
      "3   20       1     996  10003         8        0  2015010003       2       2   \n",
      "4   40      20     260  10004         1        0  2015010004       4       1   \n",
      "\n",
      "   Perstype  Seatpos  Sex  Vehno  Year  \n",
      "0         1       11    1      1  2015  \n",
      "1         1       11    1      1  2015  \n",
      "2         1       11    1      1  2015  \n",
      "3         2       13    2      1  2015  \n",
      "4         1       11    1      1  2015  \n",
      "(80587, 14)\n"
     ]
    }
   ],
   "source": [
    "PERSONS = readfars(2015,\"../FARS2015NationalDBF.zip\",\"person.dbf\")\n",
    "!rm person.dbf\n",
    "FARS = PERSONS"
   ]
  },
  {
   "cell_type": "code",
   "execution_count": 22,
   "metadata": {
    "collapsed": false
   },
   "outputs": [
    {
     "name": "stdout",
     "output_type": "stream",
     "text": [
      "['STATE', 'ST_CASE', 'VE_FORMS', 'VEH_NO', 'PER_NO', 'STR_VEH', 'COUNTY', 'DAY', 'MONTH', 'HOUR', 'MINUTE', 'ROAD_FNC', 'HARM_EV', 'MAN_COLL', 'SCH_BUS', 'MAKE', 'MAK_MOD', 'BODY_TYP', 'MOD_YEAR', 'TOW_VEH', 'SPEC_USE', 'EMER_USE', 'ROLLOVER', 'IMPACT1', 'FIRE_EXP', 'AGE', 'SEX', 'PER_TYP', 'INJ_SEV', 'SEAT_POS', 'REST_USE', 'REST_MIS', 'AIR_BAG', 'EJECTION', 'EJ_PATH', 'EXTRICAT', 'DRINKING', 'ALC_DET', 'ALC_STATUS', 'ATST_TYP', 'ALC_RES', 'DRUGS', 'DRUG_DET', 'DSTATUS', 'DRUGTST1', 'DRUGTST2', 'DRUGTST3', 'DRUGRES1', 'DRUGRES2', 'DRUGRES3', 'HOSPITAL', 'DOA', 'DEATH_DA', 'DEATH_MO', 'DEATH_YR', 'DEATH_HR', 'DEATH_MN', 'DEATH_TM', 'LAG_HRS', 'LAG_MINS', 'P_SF1', 'P_SF2', 'P_SF3', 'CERT_NO', 'WORK_INJ', 'HISPANIC', 'RACE', 'LOCATION']\n",
      "   Age  Airbag  Alcres   Case  Drinking  Ejected          ID  Injsev  Persno  \\\n",
      "0   24       8      26  10001         1        0  2014010001       4       1   \n",
      "1   30       8      96  10001         8        0  2014010001       2       2   \n",
      "2   52       1      31  10002         1        0  2014010002       4       1   \n",
      "3   22      20      96  10003         9        0  2014010003       2       1   \n",
      "4   21       1      96  10003         8        0  2014010003       0       2   \n",
      "\n",
      "   Perstype  Seatpos  Sex  Vehno  Year  \n",
      "0         1       11    1      1  2014  \n",
      "1         2       13    2      1  2014  \n",
      "2         1       11    1      1  2014  \n",
      "3         1       11    1      1  2014  \n",
      "4         2       13    2      1  2014  \n",
      "(73711, 14)\n"
     ]
    }
   ],
   "source": [
    "PERSONS = readfars(2014,\"../FARS2014NationalDBF.zip\",\"person.dbf\")\n",
    "!rm person.dbf\n",
    "frames = [FARS,PERSONS]\n",
    "FARS = pd.concat(frames)"
   ]
  },
  {
   "cell_type": "code",
   "execution_count": 23,
   "metadata": {
    "collapsed": false
   },
   "outputs": [
    {
     "name": "stdout",
     "output_type": "stream",
     "text": [
      "['STATE', 'ST_CASE', 'VE_FORMS', 'VEH_NO', 'PER_NO', 'STR_VEH', 'COUNTY', 'DAY', 'MONTH', 'HOUR', 'MINUTE', 'ROAD_FNC', 'HARM_EV', 'MAN_COLL', 'SCH_BUS', 'MAKE', 'MAK_MOD', 'BODY_TYP', 'MOD_YEAR', 'TOW_VEH', 'SPEC_USE', 'EMER_USE', 'ROLLOVER', 'IMPACT1', 'FIRE_EXP', 'AGE', 'SEX', 'PER_TYP', 'INJ_SEV', 'SEAT_POS', 'REST_USE', 'REST_MIS', 'AIR_BAG', 'EJECTION', 'EJ_PATH', 'EXTRICAT', 'DRINKING', 'ALC_DET', 'ALC_STATUS', 'ATST_TYP', 'ALC_RES', 'DRUGS', 'DRUG_DET', 'DSTATUS', 'DRUGTST1', 'DRUGTST2', 'DRUGTST3', 'DRUGRES1', 'DRUGRES2', 'DRUGRES3', 'HOSPITAL', 'DOA', 'DEATH_DA', 'DEATH_MO', 'DEATH_YR', 'DEATH_HR', 'DEATH_MN', 'DEATH_TM', 'LAG_HRS', 'LAG_MINS', 'P_SF1', 'P_SF2', 'P_SF3', 'CERT_NO', 'WORK_INJ', 'HISPANIC', 'RACE', 'LOCATION']\n",
      "   Age  Airbag  Alcres   Case  Drinking  Ejected          ID  Injsev  Persno  \\\n",
      "0   28      20      96  10001         0        0  2013010001       3       1   \n",
      "1   28      20      96  10001         8        0  2013010001       3       2   \n",
      "2   27      20      96  10001         8        0  2013010001       4       3   \n",
      "3  999       0      96  10001         8        0  2013010001       3       4   \n",
      "4   47       0      96  10001         8        0  2013010001       3       5   \n",
      "\n",
      "   Perstype  Seatpos  Sex  Vehno  Year  \n",
      "0         1       11    2      1  2013  \n",
      "1         2       13    1      1  2013  \n",
      "2         2       13    1      1  2013  \n",
      "3         2       21    1      1  2013  \n",
      "4         2       23    2      1  2013  \n",
      "(74331, 14)\n"
     ]
    }
   ],
   "source": [
    "PERSONS = readfars(2013,\"../FARS2013NationalDBF.zip\",\"person.dbf\")\n",
    "!rm person.dbf\n",
    "frames = [FARS,PERSONS]\n",
    "FARS = pd.concat(frames)"
   ]
  },
  {
   "cell_type": "code",
   "execution_count": 24,
   "metadata": {
    "collapsed": false
   },
   "outputs": [
    {
     "name": "stdout",
     "output_type": "stream",
     "text": [
      "['STATE', 'ST_CASE', 'VE_FORMS', 'VEH_NO', 'PER_NO', 'STR_VEH', 'COUNTY', 'DAY', 'MONTH', 'HOUR', 'MINUTE', 'ROAD_FNC', 'HARM_EV', 'MAN_COLL', 'SCH_BUS', 'MAKE', 'MAK_MOD', 'BODY_TYP', 'MOD_YEAR', 'VINTYPE', 'VINMAKE', 'VINA_MOD', 'VIN_BT', 'VINMODYR', 'VIN_LNGT', 'VIN_WGT', 'WGTCD_TR', 'WHLBS_LG', 'WHLBS_SH', 'SER_TR', 'FUELCODE', 'MCYCL_DS', 'CARBUR', 'CYLINDER', 'DISPLACE', 'MCYCL_CY', 'TIRE_SZE', 'TON_RAT', 'TRK_WT', 'TRKWTVAR', 'MCYCL_WT', 'VIN_REST', 'WHLDRWHL', 'TOW_VEH', 'SPEC_USE', 'EMER_USE', 'ROLLOVER', 'IMPACT1', 'FIRE_EXP', 'AGE', 'SEX', 'PER_TYP', 'INJ_SEV', 'SEAT_POS', 'REST_USE', 'REST_MIS', 'AIR_BAG', 'EJECTION', 'EJ_PATH', 'EXTRICAT', 'DRINKING', 'ALC_DET', 'ALC_STATUS', 'ATST_TYP', 'ALC_RES', 'DRUGS', 'DRUG_DET', 'DSTATUS', 'DRUGTST1', 'DRUGTST2', 'DRUGTST3', 'DRUGRES1', 'DRUGRES2', 'DRUGRES3', 'HOSPITAL', 'DOA', 'DEATH_DA', 'DEATH_MO', 'DEATH_YR', 'DEATH_HR', 'DEATH_MN', 'DEATH_TM', 'LAG_HRS', 'LAG_MINS', 'P_SF1', 'P_SF2', 'P_SF3', 'CERT_NO', 'WORK_INJ', 'HISPANIC', 'RACE', 'LOCATION']\n",
      "   Age  Airbag  Alcres   Case  Drinking  Ejected          ID  Injsev  Persno  \\\n",
      "0   22      20       2  10001         0        0  2012010001       2       1   \n",
      "1   20      20      96  10001         8        1  2012010001       4       2   \n",
      "2   10       0      96  10002         0        0  2012010002       4       1   \n",
      "3   44      20       0  10003         0        0  2012010003       2       1   \n",
      "4   22      20       0  10003         8        1  2012010003       4       2   \n",
      "\n",
      "   Perstype  Seatpos  Sex  Vehno  Year  \n",
      "0         1       11    1      1  2012  \n",
      "1         2       13    2      1  2012  \n",
      "2         1       11    2      1  2012  \n",
      "3         1       11    2      1  2012  \n",
      "4         2       13    2      1  2012  \n",
      "(76436, 14)\n"
     ]
    }
   ],
   "source": [
    "PERSONS = readfars(2012,\"../FARS2012.zip\",\"person.dbf\")\n",
    "!rm person.dbf\n",
    "frames = [FARS,PERSONS]\n",
    "FARS = pd.concat(frames)"
   ]
  },
  {
   "cell_type": "code",
   "execution_count": 25,
   "metadata": {
    "collapsed": false
   },
   "outputs": [
    {
     "name": "stdout",
     "output_type": "stream",
     "text": [
      "['STATE', 'ST_CASE', 'VE_FORMS', 'VEH_NO', 'PER_NO', 'STR_VEH', 'COUNTY', 'DAY', 'MONTH', 'HOUR', 'MINUTE', 'ROAD_FNC', 'HARM_EV', 'MAN_COLL', 'SCH_BUS', 'MAKE', 'MAK_MOD', 'BODY_TYP', 'MOD_YEAR', 'VINTYPE', 'VINMAKE', 'VINA_MOD', 'VIN_BT', 'VINMODYR', 'VIN_LNGT', 'VIN_WGT', 'WGTCD_TR', 'WHLBS_LG', 'WHLBS_SH', 'SER_TR', 'FUELCODE', 'MCYCL_DS', 'CARBUR', 'CYLINDER', 'DISPLACE', 'MCYCL_CY', 'TIRE_SZE', 'TON_RAT', 'TRK_WT', 'TRKWTVAR', 'MCYCL_WT', 'VIN_REST', 'WHLDRWHL', 'TOW_VEH', 'SPEC_USE', 'EMER_USE', 'ROLLOVER', 'IMPACT1', 'IMPACT2', 'FIRE_EXP', 'AGE', 'SEX', 'PER_TYP', 'INJ_SEV', 'SEAT_POS', 'REST_USE', 'REST_MIS', 'AIR_BAG', 'EJECTION', 'EJ_PATH', 'EXTRICAT', 'DRINKING', 'ALC_DET', 'ALC_STATUS', 'ATST_TYP', 'ALC_RES', 'DRUGS', 'DRUG_DET', 'DSTATUS', 'DRUGTST1', 'DRUGTST2', 'DRUGTST3', 'DRUGRES1', 'DRUGRES2', 'DRUGRES3', 'HOSPITAL', 'DOA', 'DEATH_DA', 'DEATH_MO', 'DEATH_YR', 'DEATH_HR', 'DEATH_MN', 'DEATH_TM', 'LAG_HRS', 'LAG_MINS', 'P_SF1', 'P_SF2', 'P_SF3', 'CERT_NO', 'WORK_INJ', 'HISPANIC', 'RACE', 'LOCATION']\n",
      "   Age  Airbag  Alcres   Case  Drinking  Ejected          ID  Injsev  Persno  \\\n",
      "0   55       0      20  10001         9        1  2011010001       4       1   \n",
      "1   24      20      96  10002         9        0  2011010002       4       1   \n",
      "2   30       1       0  10003         1        0  2011010003       3       1   \n",
      "3   33       0       0  10003         9        0  2011010003       4       1   \n",
      "4   52       0      96  10003         8        0  2011010003       4       2   \n",
      "\n",
      "   Perstype  Seatpos  Sex  Vehno  Year  \n",
      "0         1       11    2      1  2011  \n",
      "1         1       11    1      1  2011  \n",
      "2         1       11    1      1  2011  \n",
      "3         1       11    2      2  2011  \n",
      "4         2       13    2      2  2011  \n",
      "(73364, 14)\n"
     ]
    }
   ],
   "source": [
    "PERSONS = readfars(2011,\"../FARS2011.zip\",\"person.dbf\")\n",
    "!rm person.dbf\n",
    "frames = [FARS,PERSONS]\n",
    "FARS = pd.concat(frames)"
   ]
  },
  {
   "cell_type": "code",
   "execution_count": 26,
   "metadata": {
    "collapsed": false
   },
   "outputs": [
    {
     "name": "stdout",
     "output_type": "stream",
     "text": [
      "['STATE', 'ST_CASE', 'VE_FORMS', 'VEH_NO', 'PER_NO', 'N_MOT_NO', 'COUNTY', 'DAY', 'MONTH', 'HOUR', 'MINUTE', 'ROAD_FNC', 'HARM_EV', 'MAN_COLL', 'SCH_BUS', 'MAKE', 'MAK_MOD', 'BODY_TYP', 'MOD_YEAR', 'VINTYPE', 'VINMAKE', 'VINA_MOD', 'VIN_BT', 'VINMODYR', 'VIN_LNGT', 'VIN_WGT', 'WGTCD_TR', 'WHLBS_LG', 'WHLBS_SH', 'SER_TR', 'FUELCODE', 'MCYCL_DS', 'TOW_VEH', 'SPEC_USE', 'EMER_USE', 'ROLLOVER', 'IMPACT1', 'IMPACT2', 'FIRE_EXP', 'AGE', 'SEX', 'PER_TYP', 'INJ_SEV', 'SEAT_POS', 'REST_USE', 'REST_MIS', 'AIR_BAG', 'EJECTION', 'EJ_PATH', 'EXTRICAT', 'DRINKING', 'ALC_DET', 'ALC_STATUS', 'ATST_TYP', 'ALC_RES', 'DRUGS', 'DRUG_DET', 'DSTATUS', 'DRUGTST1', 'DRUGTST2', 'DRUGTST3', 'DRUGRES1', 'DRUGRES2', 'DRUGRES3', 'HOSPITAL', 'DOA', 'DEATH_DA', 'DEATH_MO', 'DEATH_YR', 'DEATH_HR', 'DEATH_MN', 'DEATH_TM', 'LAG_HRS', 'LAG_MINS', 'P_SF1', 'P_SF2', 'P_SF3', 'CERT_NO', 'WORK_INJ', 'HISPANIC', 'RACE', 'LOCATION']\n",
      "   Age  Airbag  Alcres   Case  Drinking  Ejected          ID  Injsev  Persno  \\\n",
      "0   51      99      11  10001         9        0  2010010001       4       1   \n",
      "1  999      99      96  10001         8        1  2010010001       3       2   \n",
      "2   44      20       0  10002         0        0  2010010002       4       1   \n",
      "3   27       0       0  10003         9        8  2010010003       4       1   \n",
      "4   45       8      96  10003         0        0  2010010003       0       1   \n",
      "\n",
      "   Perstype  Seatpos  Sex  Vehno  Year  \n",
      "0         1       11    2      1  2010  \n",
      "1         2       13    1      1  2010  \n",
      "2         1       11    2      1  2010  \n",
      "3         1       11    1      1  2010  \n",
      "4         1       11    2      2  2010  \n",
      "(74863, 14)\n"
     ]
    }
   ],
   "source": [
    "PERSONS = readfars(2010,\"../FARS2010.zip\",\"person.dbf\")\n",
    "!rm person.dbf\n",
    "frames = [FARS,PERSONS]\n",
    "FARS = pd.concat(frames)"
   ]
  },
  {
   "cell_type": "code",
   "execution_count": 27,
   "metadata": {
    "collapsed": false
   },
   "outputs": [
    {
     "name": "stdout",
     "output_type": "stream",
     "text": [
      "['STATE', 'VEH_NO', 'PER_NO', 'N_MOT_NO', 'AGE', 'SEX', 'PER_TYP', 'SEAT_POS', 'REST_USE', 'AIR_BAG', 'EJECTION', 'EJ_PATH', 'EXTRICAT', 'LOCATION', 'DRINKING', 'ALC_DET', 'ATST_TYP', 'ALC_RES', 'ALC_STATUS', 'DRUGS', 'DSTATUS', 'DRUG_DET', 'DRUGTST1', 'DRUGRES1', 'DRUGTST2', 'DRUGRES2', 'DRUGTST3', 'DRUGRES3', 'INJ_SEV', 'HOSPITAL', 'DEATH_MO', 'DEATH_DA', 'DEATH_HR', 'DEATH_MN', 'LAG_HRS', 'LAG_MINS', 'RACE', 'HISPANIC', 'P_CF1', 'P_CF2', 'P_CF3', 'WORK_INJ', 'DOA', 'ST_CASE', 'DEATH_YR', 'DEATH_TM', 'CERT_NO', 'MAKE', 'BODY_TYP', 'ROLLOVER', 'TOW_VEH', 'SPEC_USE', 'EMER_USE', 'IMPACT1', 'IMPACT2', 'IMPACTS', 'FIRE_EXP', 'MAK_MOD', 'MOD_YEAR', 'VINA_MOD', 'SER_TR', 'VIN_BT', 'WHLBS_SH', 'WHLBS_LG', 'MCYCL_DS', 'VIN_WGT', 'WGTCD_TR', 'COUNTY', 'MONTH', 'DAY', 'HOUR', 'MINUTE', 'ROAD_FNC', 'HARM_EV', 'MAN_COLL', 'SCH_BUS', 'VE_FORMS']\n",
      "   Age  Airbag  Alcres   Case  Drinking  Ejected          ID  Injsev  Persno  \\\n",
      "0   23      20    96.0  10001         0        0  2009010001       4       1   \n",
      "1   37       1    96.0  10001         0        0  2009010001       3       1   \n",
      "2   47       0     0.0  10002         9        8  2009010002       4       1   \n",
      "3   52      20     0.0  10002         0        0  2009010002       0       1   \n",
      "4   40       1     0.0  10003         0        0  2009010003       4       1   \n",
      "\n",
      "   Perstype  Seatpos  Sex  Vehno  Year  \n",
      "0         1       11    1      1  2009  \n",
      "1         1       11    1      2  2009  \n",
      "2         6        0    1      0  2009  \n",
      "3         1       11    1      1  2009  \n",
      "4         1       11    1      1  2009  \n",
      "(76510, 14)\n"
     ]
    }
   ],
   "source": [
    "PERSONS = readfars(2009,\"../FARS2009.zip\",\"person.DBF\")\n",
    "!rm person.DBF\n",
    "frames = [FARS,PERSONS]\n",
    "FARS = pd.concat(frames)"
   ]
  },
  {
   "cell_type": "code",
   "execution_count": 28,
   "metadata": {
    "collapsed": false,
    "scrolled": true
   },
   "outputs": [
    {
     "name": "stdout",
     "output_type": "stream",
     "text": [
      "['STATE', 'VEH_NO', 'PER_NO', 'N_MOT_NO', 'AGE', 'SEX', 'PER_TYP', 'SEAT_POS', 'REST_USE', 'AIR_BAG', 'EJECTION', 'EJ_PATH', 'EXTRICAT', 'LOCATION', 'DRINKING', 'ALC_DET', 'ATST_TYP', 'ALC_RES', 'DRUGS', 'DRUG_DET', 'DRUGTST1', 'DRUGRES1', 'DRUGTST2', 'DRUGRES2', 'DRUGTST3', 'DRUGRES3', 'INJ_SEV', 'HOSPITAL', 'DEATH_MO', 'DEATH_DA', 'DEATH_HR', 'DEATH_MN', 'LAG_HRS', 'LAG_MINS', 'RACE', 'HISPANIC', 'P_CF1', 'P_CF2', 'P_CF3', 'WORK_INJ', 'DOA', 'ST_CASE', 'DEATH_YR', 'DEATH_TM', 'CERT_NO', 'MAKE', 'BODY_TYP', 'ROLLOVER', 'TOW_VEH', 'SPEC_USE', 'EMER_USE', 'IMPACT1', 'IMPACT2', 'IMPACTS', 'FIRE_EXP', 'MAK_MOD', 'MOD_YEAR', 'VINA_MOD', 'SER_TR', 'VIN_BT', 'WHLBS_SH', 'WHLBS_LG', 'MCYCL_DS', 'VIN_WGT', 'WGTCD_TR', 'COUNTY', 'MONTH', 'DAY', 'HOUR', 'MINUTE', 'ROAD_FNC', 'HARM_EV', 'MAN_COLL', 'SCH_BUS', 'VE_FORMS']\n",
      "   Age  Airbag  Alcres   Case  Drinking  Ejected          ID  Injsev  Persno  \\\n",
      "0   79       0     0.0  10001         9        8  2008010001       4       1   \n",
      "1   74      20     0.0  10001         0        0  2008010001       0       1   \n",
      "2   99      20    96.0  10001         8        0  2008010001       0       2   \n",
      "3   45      30    96.0  10002         0        1  2008010002       4       1   \n",
      "4   47       1    96.0  10002         0        0  2008010002       3       1   \n",
      "\n",
      "   Perstype  Seatpos  Sex  Vehno  Year  \n",
      "0         5        0    1      0  2008  \n",
      "1         1       11    1      1  2008  \n",
      "2         2       13    9      1  2008  \n",
      "3         1       11    1      1  2008  \n",
      "4         1       11    1      2  2008  \n",
      "(84510, 14)\n"
     ]
    }
   ],
   "source": [
    "PERSONS = readfars(2008,\"../FARS2008.zip\",\"person.DBF\")\n",
    "!rm person.DBF\n",
    "frames = [FARS,PERSONS]\n",
    "FARS = pd.concat(frames)"
   ]
  },
  {
   "cell_type": "code",
   "execution_count": 29,
   "metadata": {
    "collapsed": false
   },
   "outputs": [
    {
     "name": "stdout",
     "output_type": "stream",
     "text": [
      "['STATE', 'VEH_NO', 'PER_NO', 'N_MOT_NO', 'AGE', 'SEX', 'PER_TYP', 'SEAT_POS', 'REST_USE', 'AIR_BAG', 'EJECTION', 'EJ_PATH', 'EXTRICAT', 'LOCATION', 'DRINKING', 'ALC_DET', 'ATST_TYP', 'ALC_RES', 'DRUGS', 'DRUG_DET', 'DRUGTST1', 'DRUGRES1', 'DRUGTST2', 'DRUGRES2', 'DRUGTST3', 'DRUGRES3', 'INJ_SEV', 'HOSPITAL', 'DEATH_MO', 'DEATH_DA', 'DEATH_HR', 'DEATH_MN', 'LAG_HRS', 'LAG_MINS', 'RACE', 'HISPANIC', 'P_CF1', 'P_CF2', 'P_CF3', 'WORK_INJ', 'DOA', 'ST_CASE', 'DEATH_YR', 'DEATH_TM', 'CERT_NO', 'MAKE', 'BODY_TYP', 'ROLLOVER', 'TOW_VEH', 'SPEC_USE', 'EMER_USE', 'IMPACT1', 'IMPACT2', 'IMPACTS', 'FIRE_EXP', 'MAK_MOD', 'MOD_YEAR', 'VINA_MOD', 'SER_TR', 'VIN_BT', 'WHLBS_SH', 'WHLBS_LG', 'MCYCL_DS', 'VIN_WGT', 'WGTCD_TR', 'COUNTY', 'MONTH', 'DAY', 'HOUR', 'MINUTE', 'ROAD_FNC', 'HARM_EV', 'MAN_COLL', 'SCH_BUS', 'VE_FORMS']\n",
      "   Age  Airbag  Alcres   Case  Drinking  Ejected          ID  Injsev  Persno  \\\n",
      "0   26       1    96.0  10001         9        0  2007010001       4       1   \n",
      "1   54      30    96.0  10002         0        0  2007010002       1       1   \n",
      "2   68      30    96.0  10002         0        0  2007010002       4       1   \n",
      "3   59      30    96.0  10002         8        0  2007010002       4       2   \n",
      "4   69       1    96.0  10002         0        0  2007010002       0       1   \n",
      "\n",
      "   Perstype  Seatpos  Sex  Vehno  Year  \n",
      "0         1       11    1      1  2007  \n",
      "1         1       11    2      1  2007  \n",
      "2         1       11    1      2  2007  \n",
      "3         2       13    1      2  2007  \n",
      "4         1       11    1      3  2007  \n",
      "(94338, 14)\n"
     ]
    }
   ],
   "source": [
    "PERSONS = readfars(2007,\"../FARS2007.zip\",\"Person.dbf\")\n",
    "!rm Person.dbf\n",
    "frames = [FARS,PERSONS]\n",
    "FARS = pd.concat(frames)"
   ]
  },
  {
   "cell_type": "code",
   "execution_count": 30,
   "metadata": {
    "collapsed": false
   },
   "outputs": [
    {
     "name": "stdout",
     "output_type": "stream",
     "text": [
      "['STATE', 'VEH_NO', 'PER_NO', 'N_MOT_NO', 'AGE', 'SEX', 'PER_TYP', 'SEAT_POS', 'REST_USE', 'AIR_BAG', 'EJECTION', 'EJ_PATH', 'EXTRICAT', 'LOCATION', 'DRINKING', 'ALC_DET', 'ATST_TYP', 'ALC_RES', 'DRUGS', 'DRUG_DET', 'DRUGTST1', 'DRUGRES1', 'DRUGTST2', 'DRUGRES2', 'DRUGTST3', 'DRUGRES3', 'INJ_SEV', 'HOSPITAL', 'DEATH_MO', 'DEATH_DA', 'DEATH_HR', 'DEATH_MN', 'LAG_HRS', 'LAG_MINS', 'RACE', 'HISPANIC', 'P_CF1', 'P_CF2', 'P_CF3', 'WORK_INJ', 'DOA', 'ST_CASE', 'DEATH_YR', 'DEATH_TM', 'CERT_NO', 'MAKE', 'BODY_TYP', 'ROLLOVER', 'TOW_VEH', 'SPEC_USE', 'EMER_USE', 'IMPACT1', 'IMPACT2', 'IMPACTS', 'FIRE_EXP', 'MAK_MOD', 'MOD_YEAR', 'VINA_MOD', 'SER_TR', 'VIN_BT', 'WHLBS_SH', 'WHLBS_LG', 'MCYCL_DS', 'VIN_WGT', 'WGTCD_TR', 'COUNTY', 'MONTH', 'DAY', 'HOUR', 'MINUTE', 'ROAD_FNC', 'HARM_EV', 'MAN_COLL', 'SCH_BUS', 'VE_FORMS']\n",
      "   Age  Airbag  Alcres   Case  Drinking  Ejected          ID  Injsev  Persno  \\\n",
      "0   59      30    13.0  10001         1        0  2006010001       4       1   \n",
      "1   17       1     0.0  10002         0        0  2006010002       4       1   \n",
      "2   38       1    27.0  10003         1        0  2006010003       4       1   \n",
      "3   41      30    96.0  10003         0        0  2006010003       0       1   \n",
      "4   88      20    97.0  10004         0        0  2006010004       4       1   \n",
      "\n",
      "   Perstype  Seatpos  Sex  Vehno  Year  \n",
      "0         1       11    1      1  2006  \n",
      "1         1       11    2      1  2006  \n",
      "2         1       11    2      1  2006  \n",
      "3         1       11    1      2  2006  \n",
      "4         1       11    1      1  2006  \n",
      "(98356, 14)\n"
     ]
    }
   ],
   "source": [
    "PERSONS = readfars(2006,\"../FARS2006.zip\",\"person.DBF\")\n",
    "!rm person.DBF\n",
    "frames = [FARS,PERSONS]\n",
    "FARS = pd.concat(frames)"
   ]
  },
  {
   "cell_type": "code",
   "execution_count": 31,
   "metadata": {
    "collapsed": false
   },
   "outputs": [
    {
     "name": "stdout",
     "output_type": "stream",
     "text": [
      "['STATE', 'VEH_NO', 'PER_NO', 'N_MOT_NO', 'AGE', 'SEX', 'PER_TYP', 'SEAT_POS', 'REST_USE', 'AIR_BAG', 'EJECTION', 'EJ_PATH', 'EXTRICAT', 'LOCATION', 'DRINKING', 'ALC_DET', 'ATST_TYP', 'ALC_RES', 'DRUGS', 'DRUG_DET', 'DRUGTST1', 'DRUGRES1', 'DRUGTST2', 'DRUGRES2', 'DRUGTST3', 'DRUGRES3', 'INJ_SEV', 'HOSPITAL', 'DEATH_MO', 'DEATH_DA', 'DEATH_HR', 'DEATH_MN', 'LAG_HRS', 'LAG_MINS', 'RACE', 'HISPANIC', 'P_CF1', 'P_CF2', 'P_CF3', 'WORK_INJ', 'DOA', 'ST_CASE', 'DEATH_YR', 'DEATH_TM', 'CERT_NO', 'MAKE', 'BODY_TYP', 'ROLLOVER', 'TOW_VEH', 'SPEC_USE', 'EMER_USE', 'IMPACT1', 'IMPACT2', 'IMPACTS', 'FIRE_EXP', 'MAK_MOD', 'MOD_YEAR', 'VINA_MOD', 'SER_TR', 'VIN_BT', 'WHLBS_SH', 'WHLBS_LG', 'MCYCL_DS', 'VIN_WGT', 'WGTCD_TR', 'COUNTY', 'MONTH', 'DAY', 'HOUR', 'MINUTE', 'ROAD_FNC', 'HARM_EV', 'MAN_COLL', 'SCH_BUS', 'VE_FORMS']\n",
      "   Age  Airbag  Alcres   Case  Drinking  Ejected          ID  Injsev  Persno  \\\n",
      "0   48      20    96.0  10001         9        0  2005010001       3       1   \n",
      "1   42      30    21.0  10001         9        0  2005010001       4       1   \n",
      "2   19       1    22.0  10002         9        0  2005010002       4       1   \n",
      "3   39      30    99.0  10003         0        0  2005010003       4       1   \n",
      "4   17      30     0.0  10004         0        0  2005010004       4       1   \n",
      "\n",
      "   Perstype  Seatpos  Sex  Vehno  Year  \n",
      "0         1       11    1      1  2005  \n",
      "1         1       11    1      2  2005  \n",
      "2         1       11    1      1  2005  \n",
      "3         1       11    2      1  2005  \n",
      "4         1       11    1      1  2005  \n",
      "(101262, 14)\n"
     ]
    }
   ],
   "source": [
    "PERSONS = readfars(2005,\"../FARS2005.zip\",\"PERSON.DBF\")\n",
    "!rm PERSON.DBF\n",
    "frames = [FARS,PERSONS]\n",
    "FARS = pd.concat(frames)"
   ]
  },
  {
   "cell_type": "code",
   "execution_count": 32,
   "metadata": {
    "collapsed": false
   },
   "outputs": [
    {
     "name": "stdout",
     "output_type": "stream",
     "text": [
      "['STATE', 'VEH_NO', 'PER_NO', 'N_MOT_NO', 'AGE', 'SEX', 'PER_TYP', 'SEAT_POS', 'REST_USE', 'AIR_BAG', 'EJECTION', 'EJ_PATH', 'EXTRICAT', 'LOCATION', 'DRINKING', 'ALC_DET', 'ATST_TYP', 'ALC_RES', 'DRUGS', 'DRUG_DET', 'DRUGTST1', 'DRUGRES1', 'DRUGTST2', 'DRUGRES2', 'DRUGTST3', 'DRUGRES3', 'INJ_SEV', 'HOSPITAL', 'DEATH_MO', 'DEATH_DA', 'DEATH_HR', 'DEATH_MN', 'LAG_HRS', 'LAG_MINS', 'RACE', 'HISPANIC', 'P_CF1', 'P_CF2', 'P_CF3', 'WORK_INJ', 'DOA', 'ST_CASE', 'DEATH_YR', 'DEATH_TM', 'CERT_NO', 'MAKE', 'BODY_TYP', 'ROLLOVER', 'TOW_VEH', 'SPEC_USE', 'EMER_USE', 'IMPACT1', 'IMPACT2', 'IMPACTS', 'FIRE_EXP', 'MAK_MOD', 'MOD_YEAR', 'VINA_MOD', 'SER_TR', 'VIN_BT', 'WHLBS_SH', 'WHLBS_LG', 'MCYCL_DS', 'VIN_WGT', 'WGTCD_TR', 'COUNTY', 'MONTH', 'DAY', 'HOUR', 'MINUTE', 'VE_FORMS', 'ROAD_FNC', 'HARM_EV', 'MAN_COLL', 'SCH_BUS']\n",
      "   Age  Airbag  Alcres   Case  Drinking  Ejected          ID  Injsev  Persno  \\\n",
      "0   32       1    97.0  10001         9        0  2004010001       4       1   \n",
      "1   16      30    96.0  10001         0        0  2004010001       3       1   \n",
      "2   25      20    99.0  10002         1        0  2004010002       4       1   \n",
      "3   45       1    96.0  10003         0        1  2004010003       4       1   \n",
      "4   60       0    97.0  10004         8        0  2004010004       4       1   \n",
      "\n",
      "   Perstype  Seatpos  Sex  Vehno  Year  \n",
      "0         1       11    1      1  2004  \n",
      "1         1       11    1      2  2004  \n",
      "2         1       11    1      1  2004  \n",
      "3         1       11    1      1  2004  \n",
      "4         5        0    1      0  2004  \n",
      "(100760, 14)\n"
     ]
    }
   ],
   "source": [
    "PERSONS = readfars(2004,\"../FARS2004.zip\",\"PERSON.dbf\")\n",
    "!rm PERSON.dbf\n",
    "frames = [FARS,PERSONS]\n",
    "FARS = pd.concat(frames)"
   ]
  },
  {
   "cell_type": "code",
   "execution_count": 33,
   "metadata": {
    "collapsed": false
   },
   "outputs": [
    {
     "name": "stdout",
     "output_type": "stream",
     "text": [
      "['STATE', 'VEH_NO', 'PER_NO', 'N_MOT_NO', 'AGE', 'SEX', 'PER_TYP', 'SEAT_POS', 'REST_USE', 'AIR_BAG', 'EJECTION', 'EJ_PATH', 'EXTRICAT', 'LOCATION', 'DRINKING', 'ALC_DET', 'ATST_TYP', 'ALC_RES', 'DRUGS', 'DRUG_DET', 'DRUGTST1', 'DRUGRES1', 'DRUGTST2', 'DRUGRES2', 'DRUGTST3', 'DRUGRES3', 'INJ_SEV', 'HOSPITAL', 'DEATH_MO', 'DEATH_DA', 'DEATH_HR', 'DEATH_MN', 'LAG_HRS', 'LAG_MINS', 'RACE', 'HISPANIC', 'P_CF1', 'P_CF2', 'P_CF3', 'WORK_INJ', 'DOA', 'ST_CASE', 'DEATH_YR', 'DEATH_TM', 'CERT_NO', 'MAKE', 'BODY_TYP', 'ROLLOVER', 'TOW_VEH', 'SPEC_USE', 'EMER_USE', 'IMPACT1', 'IMPACT2', 'IMPACTS', 'FIRE_EXP', 'MAK_MOD', 'MOD_YEAR', 'VINA_MOD', 'SER_TR', 'VIN_BT', 'WHLBS_SH', 'WHLBS_LG', 'MCYCL_DS', 'VIN_WGT', 'WGTCD_TR', 'COUNTY', 'MONTH', 'DAY', 'HOUR', 'MINUTE', 'VE_FORMS', 'ROAD_FNC', 'HARM_EV', 'MAN_COLL', 'SCH_BUS']\n",
      "   Age  Airbag  Alcres   Case  Drinking  Ejected          ID  Injsev  Persno  \\\n",
      "0   22      30    96.0  10001         9        0  2003010001       4       1   \n",
      "1   37      30    41.0  10002         9        0  2003010002       4       1   \n",
      "2   56      30    22.0  10003         9        0  2003010003       4       1   \n",
      "3   26      30     0.0  10004         9        0  2003010004       4       1   \n",
      "4   26       1    99.0  10005         0        0  2003010005       3       1   \n",
      "\n",
      "   Perstype  Seatpos  Sex  Vehno  Year  \n",
      "0         1       11    1      1  2003  \n",
      "1         1       11    2      1  2003  \n",
      "2         1       11    1      1  2003  \n",
      "3         1       11    1      1  2003  \n",
      "4         1       11    1      1  2003  \n",
      "(101862, 14)\n"
     ]
    }
   ],
   "source": [
    "PERSONS = readfars(2003,\"../FARS2003.zip\",\"PERSON.dbf\")\n",
    "!rm PERSON.dbf\n",
    "frames = [FARS,PERSONS]\n",
    "FARS = pd.concat(frames)"
   ]
  },
  {
   "cell_type": "code",
   "execution_count": 34,
   "metadata": {
    "collapsed": false
   },
   "outputs": [
    {
     "name": "stdout",
     "output_type": "stream",
     "text": [
      "['STATE', 'VEH_NO', 'PER_NO', 'N_MOT_NO', 'AGE', 'SEX', 'PER_TYP', 'SEAT_POS', 'REST_USE', 'AIR_BAG', 'EJECTION', 'EJ_PATH', 'EXTRICAT', 'LOCATION', 'DRINKING', 'ALC_DET', 'ATST_TYP', 'ALC_RES', 'DRUGS', 'DRUG_DET', 'DRUGTST1', 'DRUGRES1', 'DRUGTST2', 'DRUGRES2', 'DRUGTST3', 'DRUGRES3', 'INJ_SEV', 'HOSPITAL', 'DEATH_MO', 'DEATH_DA', 'DEATH_HR', 'DEATH_MN', 'LAG_HRS', 'LAG_MINS', 'RACE', 'HISPANIC', 'P_CF1', 'P_CF2', 'P_CF3', 'WORK_INJ', 'DOA', 'ST_CASE', 'DEATH_YR', 'DEATH_TM', 'CERT_NO', 'MAKE', 'BODY_TYP', 'ROLLOVER', 'TOW_VEH', 'SPEC_USE', 'EMER_USE', 'IMPACT1', 'IMPACT2', 'IMPACTS', 'FIRE_EXP', 'MAK_MOD', 'MOD_YEAR', 'VINA_MOD', 'SER_TR', 'VIN_BT', 'WHLBS_SH', 'WHLBS_LG', 'MCYCL_DS', 'VIN_WGT', 'WGTCD_TR', 'COUNTY', 'MONTH', 'DAY', 'HOUR', 'MINUTE', 'VE_FORMS', 'ROAD_FNC', 'HARM_EV', 'MAN_COLL', 'SCH_BUS']\n",
      "   Age  Airbag  Alcres   Case  Drinking  Ejected          ID  Injsev  Persno  \\\n",
      "0   44      30     0.0  10001         0        0  2002010001       4       1   \n",
      "1   28      20    96.0  10002         0        0  2002010002       0       1   \n",
      "2   25      29    96.0  10002         0        1  2002010002       4       2   \n",
      "3   26       1    97.0  10003         9        0  2002010003       4       1   \n",
      "4   33      20    97.0  10004         9        0  2002010004       4       1   \n",
      "\n",
      "   Perstype  Seatpos  Sex  Vehno  Year  \n",
      "0         1       11    1      1  2002  \n",
      "1         1       11    2      1  2002  \n",
      "2         2       13    1      1  2002  \n",
      "3         1       11    1      1  2002  \n",
      "4         1       11    1      1  2002  \n",
      "(101784, 14)\n"
     ]
    }
   ],
   "source": [
    "PERSONS = readfars(2002,\"../FARS2002.zip\",\"PERSON.dbf\")\n",
    "!rm PERSON.dbf\n",
    "frames = [FARS,PERSONS]\n",
    "FARS = pd.concat(frames)"
   ]
  },
  {
   "cell_type": "code",
   "execution_count": 35,
   "metadata": {
    "collapsed": false
   },
   "outputs": [
    {
     "name": "stdout",
     "output_type": "stream",
     "text": [
      "['STATE', 'VEH_NO', 'PER_NO', 'N_MOT_NO', 'AGE', 'SEX', 'PER_TYP', 'SEAT_POS', 'REST_USE', 'AIR_BAG', 'EJECTION', 'EJ_PATH', 'EXTRICAT', 'LOCATION', 'DRINKING', 'ALC_DET', 'ATST_TYP', 'ALC_RES', 'DRUGS', 'DRUG_DET', 'DRUGTST1', 'DRUGRES1', 'DRUGTST2', 'DRUGRES2', 'DRUGTST3', 'DRUGRES3', 'INJ_SEV', 'HOSPITAL', 'DEATH_MO', 'DEATH_DA', 'DEATH_HR', 'DEATH_MN', 'LAG_HRS', 'LAG_MINS', 'RACE', 'HISPANIC', 'P_CF1', 'P_CF2', 'P_CF3', 'WORK_INJ', 'DOA', 'ST_CASE', 'DEATH_YR', 'DEATH_TM', 'CERT_NO', 'MAKE', 'BODY_TYP', 'ROLLOVER', 'TOW_VEH', 'SPEC_USE', 'EMER_USE', 'IMPACT1', 'IMPACT2', 'IMPACTS', 'FIRE_EXP', 'MAK_MOD', 'MOD_YEAR', 'VINA_MOD', 'SER_TR', 'VIN_BT', 'WHLBS_SH', 'WHLBS_LG', 'MCYCL_DS', 'VIN_WGT', 'WGTCD_TR', 'COUNTY', 'MONTH', 'DAY', 'HOUR', 'MINUTE', 'VE_FORMS', 'ROAD_FNC', 'HARM_EV', 'MAN_COLL', 'SCH_BUS']\n",
      "   Age  Airbag  Alcres   Case  Drinking  Ejected          ID  Injsev  Persno  \\\n",
      "0   34      20    97.0  10001         1        1  2001010001       4       1   \n",
      "1   20       1    96.0  10002         0        1  2001010002       4       1   \n",
      "2   43      30    96.0  10003         0        0  2001010003       4       1   \n",
      "3   38      30    96.0  10003         8        0  2001010003       3       2   \n",
      "4   50       1    97.0  10004         1        0  2001010004       4       1   \n",
      "\n",
      "   Perstype  Seatpos  Sex  Vehno  Year  \n",
      "0         1       11    1      1  2001  \n",
      "1         1       11    1      1  2001  \n",
      "2         1       11    1      1  2001  \n",
      "3         2       13    2      1  2001  \n",
      "4         1       11    1      1  2001  \n",
      "(101175, 14)\n"
     ]
    }
   ],
   "source": [
    "PERSONS = readfars(2001,\"../FARS2001.zip\",\"person.dbf\")\n",
    "!rm person.dbf\n",
    "frames = [FARS,PERSONS]\n",
    "FARS = pd.concat(frames)"
   ]
  },
  {
   "cell_type": "code",
   "execution_count": 36,
   "metadata": {
    "collapsed": false
   },
   "outputs": [
    {
     "name": "stdout",
     "output_type": "stream",
     "text": [
      "['STATE', 'VEH_NO', 'PER_NO', 'N_MOT_NO', 'AGE', 'SEX', 'PER_TYP', 'SEAT_POS', 'REST_USE', 'AIR_BAG', 'EJECTION', 'EJ_PATH', 'EXTRICAT', 'LOCATION', 'DRINKING', 'ALC_DET', 'ATST_TYP', 'ALC_RES', 'DRUGS', 'DRUG_DET', 'DRUGTST1', 'DRUGRES1', 'DRUGTST2', 'DRUGRES2', 'DRUGTST3', 'DRUGRES3', 'INJ_SEV', 'HOSPITAL', 'DEATH_MO', 'DEATH_DA', 'DEATH_HR', 'DEATH_MN', 'LAG_HRS', 'LAG_MINS', 'RACE', 'HISPANIC', 'P_CF1', 'P_CF2', 'P_CF3', 'WORK_INJ', 'ST_CASE', 'DEATH_YR', 'DEATH_TM', 'CERT_NO', 'MAKE', 'BODY_TYP', 'ROLLOVER', 'TOW_VEH', 'SPEC_USE', 'EMER_USE', 'IMPACT1', 'IMPACT2', 'IMPACTS', 'FIRE_EXP', 'MAK_MOD', 'MOD_YEAR', 'VINA_MOD', 'SER_TR', 'VIN_BT', 'WHLBS_SH', 'WHLBS_LG', 'MCYCL_DS', 'VIN_WGT', 'WGTCD_TR', 'COUNTY', 'MONTH', 'DAY', 'HOUR', 'MINUTE', 'VE_FORMS', 'ROAD_FNC', 'HARM_EV', 'MAN_COLL', 'SCH_BUS']\n",
      "   Age  Airbag  Alcres   Case  Drinking  Ejected          ID  Injsev  Persno  \\\n",
      "0   28       0    96.0  10001         9        0  2000010001       4       1   \n",
      "1   37      30    96.0  10001         9        0  2000010001       0       1   \n",
      "2   99      30    96.0  10001         8        0  2000010001       0       2   \n",
      "3   99      30    96.0  10001         8        0  2000010001       0       3   \n",
      "4   99      30    96.0  10001         8        0  2000010001       0       4   \n",
      "\n",
      "   Perstype  Seatpos  Sex  Vehno  Year  \n",
      "0         5        0    1      0  2000  \n",
      "1         1       11    2      1  2000  \n",
      "2         2       99    9      1  2000  \n",
      "3         2       99    9      1  2000  \n",
      "4         2       99    9      1  2000  \n",
      "(100716, 14)\n"
     ]
    }
   ],
   "source": [
    "PERSONS = readfars(2000,\"../FARSDBF00.zip\",\"PERSON.dbf\")\n",
    "!rm PERSON.dbf\n",
    "frames = [FARS,PERSONS]\n",
    "FARS = pd.concat(frames)"
   ]
  },
  {
   "cell_type": "code",
   "execution_count": 37,
   "metadata": {
    "collapsed": false
   },
   "outputs": [
    {
     "name": "stdout",
     "output_type": "stream",
     "text": [
      "['STATE', 'VEH_NO', 'PER_NO', 'N_MOT_NO', 'AGE', 'SEX', 'PER_TYP', 'SEAT_POS', 'REST_USE', 'AIR_BAG', 'EJECTION', 'EJ_PATH', 'EXTRICAT', 'LOCATION', 'DRINKING', 'ALC_DET', 'ATST_TYP', 'ALC_RES', 'DRUGS', 'DRUG_DET', 'DRUGTST1', 'DRUGRES1', 'DRUGTST2', 'DRUGRES2', 'DRUGTST3', 'DRUGRES3', 'INJ_SEV', 'HOSPITAL', 'DEATH_MO', 'DEATH_DA', 'DEATH_HR', 'DEATH_MN', 'LAG_HRS', 'LAG_MINS', 'RACE', 'HISPANIC', 'P_CF1', 'P_CF2', 'P_CF3', 'WORK_INJ', 'ST_CASE', 'DEATH_YR', 'DEATH_TM', 'CERT_NO', 'MAKE', 'BODY_TYP', 'ROLLOVER', 'TOW_VEH', 'SPEC_USE', 'EMER_USE', 'IMPACT1', 'IMPACT2', 'IMPACTS', 'FIRE_EXP', 'MAK_MOD', 'MOD_YEAR', 'VINA_MOD', 'SER_TR', 'VIN_BT', 'WHLBS_SH', 'WHLBS_LG', 'MCYCL_DS', 'VIN_WGT', 'WGTCD_TR', 'COUNTY', 'MONTH', 'DAY', 'HOUR', 'MINUTE', 'VE_FORMS', 'ROAD_FNC', 'HARM_EV', 'MAN_COLL', 'SCH_BUS']\n",
      "   Age  Airbag  Alcres   Case  Drinking  Ejected          ID  Injsev  Persno  \\\n",
      "0   18      30    96.0  10001         1        2  1999010001       4       1   \n",
      "1   99      30    96.0  10001         8        0  1999010001       0       2   \n",
      "2   99      30    96.0  10001         8        0  1999010001       0       3   \n",
      "3   27      30    97.0  10002         1        2  1999010002       3       1   \n",
      "4   44      30    97.0  10002         9        2  1999010002       4       1   \n",
      "\n",
      "   Perstype  Seatpos  Sex  Vehno  Year  \n",
      "0         1       11    1      1  1999  \n",
      "1         2       12    9      1  1999  \n",
      "2         2       13    9      1  1999  \n",
      "3         1       11    1      1  1999  \n",
      "4         1       11    1      2  1999  \n",
      "(100666, 14)\n"
     ]
    }
   ],
   "source": [
    "PERSONS = readfars(1999,\"../FARSDBF99.zip\",\"PERSON.dbf\")\n",
    "!rm PERSON.dbf\n",
    "frames = [FARS,PERSONS]\n",
    "FARS = pd.concat(frames)"
   ]
  },
  {
   "cell_type": "code",
   "execution_count": 38,
   "metadata": {
    "collapsed": false
   },
   "outputs": [
    {
     "name": "stdout",
     "output_type": "stream",
     "text": [
      "['STATE', 'COUNTY', 'MONTH', 'DAY', 'HOUR', 'MINUTE', 'VE_FORMS', 'ROAD_FNC', 'HARM_EV', 'MAN_COLL', 'SCH_BUS', 'VEH_NO', 'MAKE', 'BODY_TYP', 'ROLLOVER', 'TOW_VEH', 'SPEC_USE', 'EMER_USE', 'IMPACT1', 'IMPACT2', 'IMPACTS', 'FIRE_EXP', 'WGTCD_TR', 'PER_NO', 'N_MOT_NO', 'AGE', 'SEX', 'PER_TYP', 'SEAT_POS', 'LOCATION', 'EJECTION', 'EXTRICAT', 'ALC_DET', 'DRINKING', 'INJ_SEV', 'HOSPITAL', 'DEATH_MO', 'DEATH_DA', 'DEATH_HR', 'DEATH_MN', 'LAG_HRS', 'LAG_MINS', 'P_CF1', 'P_CF2', 'P_CF3', 'WORK_INJ', 'ATST_TYP', 'ST_CASE', 'MAK_MOD', 'VIN_WGT', 'DEATH_YR', 'WHLBS_SH', 'WHLBS_LG', 'MCYCL_DS', 'DEATH_TM', 'MOD_YEAR', 'CERT_NO', 'SER_TR', 'VINA_MOD', 'VIN_BT', 'REST_USE', 'AIR_BAG', 'EJ_PATH', 'ALC_RES', 'DRUGS', 'DRUG_DET', 'DRUGTST1', 'DRUGRES1', 'DRUGTST2', 'DRUGRES2', 'DRUGTST3', 'DRUGRES3']\n",
      "   Age  Airbag  Alcres   Case  Drinking  Ejected          ID  Injsev  Persno  \\\n",
      "0   33      30    21.0  10001         1        0  1998010001       4       1   \n",
      "1   20      30    96.0  10001         0        0  1998010001       3       1   \n",
      "2   20      30    96.0  10001         8        0  1998010001       3       2   \n",
      "3   44      30    96.0  10002         1        0  1998010002       2       1   \n",
      "4   41      30    96.0  10002         8        0  1998010002       2       2   \n",
      "\n",
      "   Perstype  Seatpos  Sex  Vehno  Year  \n",
      "0         1       11    1      1  1998  \n",
      "1         1       11    2      2  1998  \n",
      "2         2       13    2      2  1998  \n",
      "3         1       11    1      1  1998  \n",
      "4         2       13    1      1  1998  \n",
      "(101100, 14)\n"
     ]
    }
   ],
   "source": [
    "PERSONS = readfars(1998,\"../FARSDBF98.zip\",\"PERSON.dbf\")\n",
    "!rm PERSON.dbf\n",
    "frames = [FARS,PERSONS]\n",
    "FARS = pd.concat(frames)"
   ]
  },
  {
   "cell_type": "code",
   "execution_count": 39,
   "metadata": {
    "collapsed": false
   },
   "outputs": [
    {
     "name": "stdout",
     "output_type": "stream",
     "text": [
      "['STATE', 'COUNTY', 'MONTH', 'DAY', 'HOUR', 'MINUTE', 'VE_FORMS', 'ROAD_FNC', 'HARM_EV', 'MAN_COLL', 'SCH_BUS', 'VEH_NO', 'MAKE', 'BODY_TYP', 'MOD_YEAR', 'ROLLOVER', 'TOW_VEH', 'SPEC_USE', 'EMER_USE', 'IMPACT1', 'IMPACT2', 'IMPACTS', 'FIRE_EXP', 'WGTCD_TR', 'PER_NO', 'N_MOT_NO', 'AGE', 'SEX', 'PER_TYP', 'SEAT_POS', 'LOCATION', 'EJECTION', 'EXTRICAT', 'ALC_DET', 'DRINKING', 'INJ_SEV', 'HOSPITAL', 'DEATH_MO', 'DEATH_DA', 'DEATH_YR', 'DEATH_HR', 'DEATH_MN', 'LAG_HRS', 'LAG_MINS', 'P_CF1', 'P_CF2', 'P_CF3', 'WORK_INJ', 'ST_CASE', 'MAK_MOD', 'VIN_WGT', 'WHLBS_SH', 'WHLBS_LG', 'MCYCL_DS', 'DEATH_TM', 'CERT_NO', 'SER_TR', 'VINA_MOD', 'VIN_BT', 'REST_USE', 'AIR_BAG', 'EJ_PATH', 'ALC_RES', 'DRUGS', 'DRUG_DET', 'DRUGTST1', 'DRUGRES1', 'DRUGTST2', 'DRUGRES2', 'DRUGTST3', 'DRUGRES3']\n",
      "   Age  Airbag  Alcres   Case  Drinking  Ejected          ID  Injsev  Persno  \\\n",
      "0   34       9    11.0  10001         9        0  1997010001       4       1   \n",
      "1   38       4     2.0  10002         1        1  1997010002       4       1   \n",
      "2   23       4    96.0  10002         8        1  1997010002       3       2   \n",
      "3   32       4    96.0  10003         9        0  1997010003       4       1   \n",
      "4   41       9    96.0  10003         0        0  1997010003       1       1   \n",
      "\n",
      "   Perstype  Seatpos  Sex  Vehno  Year  \n",
      "0         1       11    1      1  1997  \n",
      "1         1       11    1      1  1997  \n",
      "2         2       13    2      1  1997  \n",
      "3         1       11    1      1  1997  \n",
      "4         1       11    1      2  1997  \n",
      "(102197, 14)\n"
     ]
    }
   ],
   "source": [
    "PERSONS = readfars(1997,\"../FARSDBF97.zip\",\"PERSON.dbf\")\n",
    "!rm PERSON.dbf\n",
    "frames = [FARS,PERSONS]\n",
    "FARS = pd.concat(frames)"
   ]
  },
  {
   "cell_type": "code",
   "execution_count": 40,
   "metadata": {
    "collapsed": false
   },
   "outputs": [
    {
     "name": "stdout",
     "output_type": "stream",
     "text": [
      "['STATE', 'COUNTY', 'MONTH', 'DAY', 'HOUR', 'MINUTE', 'VE_FORMS', 'ROAD_FNC', 'HARM_EV', 'MAN_COLL', 'SCH_BUS', 'VEH_NO', 'MAKE', 'BODY_TYP', 'MOD_YEAR', 'ROLLOVER', 'TOW_VEH', 'SPEC_USE', 'EMER_USE', 'IMPACT1', 'IMPACT2', 'IMPACTS', 'FIRE_EXP', 'WGTCD_TR', 'PER_NO', 'N_MOT_NO', 'AGE', 'SEX', 'PER_TYP', 'SEAT_POS', 'LOCATION', 'EJECTION', 'EXTRICAT', 'ALC_DET', 'DRINKING', 'INJ_SEV', 'HOSPITAL', 'DEATH_MO', 'DEATH_DA', 'DEATH_YR', 'DEATH_HR', 'DEATH_MN', 'LAG_HRS', 'LAG_MINS', 'P_CF1', 'P_CF2', 'P_CF3', 'WORK_INJ', 'ST_CASE', 'MAK_MOD', 'VIN_WGT', 'WHLBS_SH', 'WHLBS_LG', 'MCYCL_DS', 'DEATH_TM', 'CERT_NO', 'SER_TR', 'VINA_MOD', 'VIN_BT', 'REST_USE', 'AIR_BAG', 'EJ_PATH', 'ALC_RES', 'DRUGS', 'DRUG_DET', 'DRUGTST1', 'DRUGRES1', 'DRUGTST2', 'DRUGRES2', 'DRUGTST3', 'DRUGRES3']\n",
      "   Age  Airbag  Alcres   Case  Drinking  Ejected          ID  Injsev  Persno  \\\n",
      "0   76       9    96.0  10001         8        0  1996010001       0       1   \n",
      "1   73       9    99.0  10001         8        0  1996010001       4       2   \n",
      "2   17       9    96.0  10001         0        0  1996010001       2       1   \n",
      "3   17       9    96.0  10001         8        0  1996010001       2       2   \n",
      "4   42       9    96.0  10002         9        0  1996010002       1       1   \n",
      "\n",
      "   Perstype  Seatpos  Sex  Vehno  Year  \n",
      "0         1       11    1      1  1996  \n",
      "1         2       13    2      1  1996  \n",
      "2         1       11    2      2  1996  \n",
      "3         2       13    2      2  1996  \n",
      "4         1       11    1      1  1996  \n",
      "(103347, 14)\n"
     ]
    }
   ],
   "source": [
    "PERSONS = readfars(1996,\"../FARSDBF96.zip\",\"PERSON.dbf\")\n",
    "!rm PERSON.dbf\n",
    "frames = [FARS,PERSONS]\n",
    "FARS = pd.concat(frames)"
   ]
  },
  {
   "cell_type": "code",
   "execution_count": 41,
   "metadata": {
    "collapsed": false
   },
   "outputs": [
    {
     "name": "stdout",
     "output_type": "stream",
     "text": [
      "['STATE', 'COUNTY', 'MONTH', 'DAY', 'HOUR', 'MINUTE', 'VE_FORMS', 'ROAD_FNC', 'HARM_EV', 'MAN_COLL', 'SCH_BUS', 'VEH_NO', 'MAKE', 'BODY_TYP', 'MOD_YEAR', 'ROLLOVER', 'TOW_VEH', 'SPEC_USE', 'EMER_USE', 'IMPACT1', 'IMPACT2', 'IMPACTS', 'FIRE_EXP', 'WGTCD_TR', 'PER_NO', 'N_MOT_NO', 'AGE', 'SEX', 'PER_TYP', 'SEAT_POS', 'LOCATION', 'EJECTION', 'EXTRICAT', 'ALC_DET', 'DRINKING', 'INJ_SEV', 'HOSPITAL', 'DEATH_MO', 'DEATH_DA', 'DEATH_YR', 'DEATH_HR', 'DEATH_MN', 'LAG_HRS', 'LAG_MINS', 'P_CF1', 'P_CF2', 'P_CF3', 'WORK_INJ', 'ST_CASE', 'MAK_MOD', 'VIN_WGT', 'WHLBS_SH', 'WHLBS_LG', 'MCYCL_DS', 'DEATH_TM', 'CERT_NO', 'SER_TR', 'VINA_MOD', 'VIN_BT', 'REST_USE', 'AIR_BAG', 'EJ_PATH', 'ALC_RES', 'DRUGS', 'DRUG_DET', 'DRUGTST1', 'DRUGRES1', 'DRUGTST2', 'DRUGRES2', 'DRUGTST3', 'DRUGRES3']\n",
      "   Age  Airbag  Alcres   Case  Drinking  Ejected          ID  Injsev  Persno  \\\n",
      "0   23       4    97.0  10001         0        0  1995010001       4       1   \n",
      "1   38       3    96.0  10002         0        0  1995010002       4       1   \n",
      "2   16       9    96.0  10003         0        0  1995010003       0       1   \n",
      "3   15       9    99.0  10003         8        1  1995010003       4       2   \n",
      "4   13       9    96.0  10003         8        1  1995010003       3       3   \n",
      "\n",
      "   Perstype  Seatpos  Sex  Vehno  Year  \n",
      "0         1       11    2      1  1995  \n",
      "1         1       11    1      1  1995  \n",
      "2         1       11    1      1  1995  \n",
      "3         2       21    1      1  1995  \n",
      "4         2       23    1      1  1995  \n",
      "(102102, 14)\n"
     ]
    }
   ],
   "source": [
    "PERSONS = readfars(1995,\"../FARSDBF95.zip\",\"PERSON.dbf\")\n",
    "!rm PERSON.dbf\n",
    "frames = [FARS,PERSONS]\n",
    "FARS = pd.concat(frames)"
   ]
  },
  {
   "cell_type": "code",
   "execution_count": 42,
   "metadata": {
    "collapsed": false
   },
   "outputs": [
    {
     "name": "stdout",
     "output_type": "stream",
     "text": [
      "['STATE', 'COUNTY', 'MONTH', 'DAY', 'HOUR', 'MINUTE', 'VE_FORMS', 'ROAD_FNC', 'HARM_EV', 'MAN_COLL', 'SCH_BUS', 'VEH_NO', 'MAKE', 'BODY_TYP', 'MOD_YEAR', 'ROLLOVER', 'TOW_VEH', 'SPEC_USE', 'EMER_USE', 'IMPACT1', 'IMPACT2', 'IMPACTS', 'FIRE_EXP', 'WGTCD_TR', 'PER_NO', 'N_MOT_NO', 'AGE', 'SEX', 'PER_TYP', 'SEAT_POS', 'LOCATION', 'EJECTION', 'EXTRICAT', 'ALC_DET', 'DRINKING', 'INJ_SEV', 'HOSPITAL', 'DEATH_MO', 'DEATH_DA', 'DEATH_YR', 'DEATH_HR', 'DEATH_MN', 'LAG_HRS', 'LAG_MINS', 'P_CF1', 'P_CF2', 'P_CF3', 'WORK_INJ', 'ST_CASE', 'MAK_MOD', 'VIN_WGT', 'WHLBS_SH', 'WHLBS_LG', 'MCYCL_DS', 'DEATH_TM', 'CERT_NO', 'SER_TR', 'VINA_MOD', 'VIN_BT', 'REST_USE', 'AIR_BAG', 'EJ_PATH', 'ALC_RES', 'DRUGS', 'DRUG_DET', 'DRUGTST1', 'DRUGRES1', 'DRUGTST2', 'DRUGRES2', 'DRUGTST3', 'DRUGRES3']\n",
      "   Age  Airbag  Alcres   Case  Drinking  Ejected          ID  Injsev  Persno  \\\n",
      "0   54       9    96.0  10001         0        0  1994010001       3       1   \n",
      "1   27       9    10.0  10001         1        0  1994010001       4       1   \n",
      "2   55       9    96.0  10001         0        0  1994010001       0       1   \n",
      "3   50       3     0.0  10002         0        0  1994010002       4       1   \n",
      "4   50       9    96.0  10003         0        0  1994010003       0       1   \n",
      "\n",
      "   Perstype  Seatpos  Sex  Vehno  Year  \n",
      "0         1       11    1      1  1994  \n",
      "1         1       11    1      2  1994  \n",
      "2         1       11    1      3  1994  \n",
      "3         1       11    2      1  1994  \n",
      "4         1       11    1      1  1994  \n",
      "(98945, 14)\n"
     ]
    }
   ],
   "source": [
    "PERSONS = readfars(1994,\"../FARSDBF94.zip\",\"PERSON.dbf\")\n",
    "!rm PERSON.dbf\n",
    "frames = [FARS,PERSONS]\n",
    "FARS = pd.concat(frames)"
   ]
  },
  {
   "cell_type": "code",
   "execution_count": 43,
   "metadata": {
    "collapsed": false
   },
   "outputs": [
    {
     "name": "stdout",
     "output_type": "stream",
     "text": [
      "['STATE', 'COUNTY', 'MONTH', 'DAY', 'HOUR', 'MINUTE', 'VE_FORMS', 'ROAD_FNC', 'HARM_EV', 'MAN_COLL', 'SCH_BUS', 'VEH_NO', 'MAKE', 'BODY_TYP', 'MOD_YEAR', 'ROLLOVER', 'TOW_VEH', 'SPEC_USE', 'EMER_USE', 'IMPACT1', 'IMPACT2', 'IMPACTS', 'FIRE_EXP', 'WGTCD_TR', 'PER_NO', 'N_MOT_NO', 'AGE', 'SEX', 'PER_TYP', 'SEAT_POS', 'LOCATION', 'EJECTION', 'EXTRICAT', 'ALC_DET', 'DRINKING', 'INJ_SEV', 'HOSPITAL', 'DEATH_MO', 'DEATH_DA', 'DEATH_YR', 'DEATH_HR', 'DEATH_MN', 'LAG_HRS', 'LAG_MINS', 'P_CF1', 'P_CF2', 'P_CF3', 'WORK_INJ', 'ST_CASE', 'MAK_MOD', 'VIN_WGT', 'WHLBS_SH', 'WHLBS_LG', 'MCYCL_DS', 'DEATH_TM', 'CERT_NO', 'SER_TR', 'VINA_MOD', 'VIN_BT', 'REST_USE', 'AIR_BAG', 'EJ_PATH', 'ALC_RES', 'DRUGS', 'DRUG_DET', 'DRUGTST1', 'DRUGRES1', 'DRUGTST2', 'DRUGRES2', 'DRUGTST3', 'DRUGRES3']\n",
      "   Age  Airbag  Alcres   Case  Drinking  Ejected          ID  Injsev  Persno  \\\n",
      "0   21       9    97.0  10001         1        0  1993010001       4       1   \n",
      "1   26       9    96.0  10002         0        0  1993010002       0       1   \n",
      "2   27       9    96.0  10002         8        0  1993010002       3       2   \n",
      "3   27       9    99.0  10002         8        1  1993010002       4       3   \n",
      "4   53       9    97.0  10003         0        0  1993010003       4       1   \n",
      "\n",
      "   Perstype  Seatpos  Sex  Vehno  Year  \n",
      "0         1       11    1      1  1993  \n",
      "1         1       11    1      1  1993  \n",
      "2         2       13    1      1  1993  \n",
      "3         2       53    2      1  1993  \n",
      "4         1       11    2      1  1993  \n",
      "(97589, 14)\n"
     ]
    }
   ],
   "source": [
    "PERSONS = readfars(1993,\"../FARS1993.zip\",\"per1993.dbf\")\n",
    "!rm per1993.dbf\n",
    "frames = [FARS,PERSONS]\n",
    "FARS = pd.concat(frames)"
   ]
  },
  {
   "cell_type": "code",
   "execution_count": 44,
   "metadata": {
    "collapsed": false
   },
   "outputs": [
    {
     "name": "stdout",
     "output_type": "stream",
     "text": [
      "['STATE', 'COUNTY', 'MONTH', 'DAY', 'HOUR', 'MINUTE', 'VE_FORMS', 'ROAD_FNC', 'HARM_EV', 'MAN_COLL', 'SCH_BUS', 'VEH_NO', 'MAKE', 'BODY_TYP', 'MOD_YEAR', 'ROLLOVER', 'TOW_VEH', 'SPEC_USE', 'EMER_USE', 'IMPACT1', 'IMPACT2', 'IMPACTS', 'FIRE_EXP', 'WGTCD_TR', 'PER_NO', 'N_MOT_NO', 'AGE', 'SEX', 'PER_TYP', 'SEAT_POS', 'LOCATION', 'EJECTION', 'EXTRICAT', 'ALC_DET', 'DRINKING', 'INJ_SEV', 'HOSPITAL', 'DEATH_MO', 'DEATH_DA', 'DEATH_YR', 'DEATH_HR', 'DEATH_MN', 'LAG_HRS', 'LAG_MINS', 'P_CF1', 'P_CF2', 'P_CF3', 'WORK_INJ', 'ST_CASE', 'MAK_MOD', 'VIN_WGT', 'WHLBS_SH', 'WHLBS_LG', 'MCYCL_DS', 'DEATH_TM', 'CERT_NO', 'SER_TR', 'VINA_MOD', 'VIN_BT', 'REST_USE', 'AIR_BAG', 'EJ_PATH', 'DRUGS', 'DRUG_DET', 'DRUGTEST', 'DRUG_RES', 'ALC_RES']\n",
      "   Age  Airbag  Alcres   Case  Drinking  Ejected          ID  Injsev  Persno  \\\n",
      "0   30       9    96.0  10001         9        0  1992010001       4       1   \n",
      "1   20       9    96.0  10002         9        2  1992010002       4       1   \n",
      "2   22       9    96.0  10003         9        0  1992010003       4       1   \n",
      "3   21       9    96.0  10003         8        0  1992010003       3       2   \n",
      "4   38       9     0.0  10003         0        0  1992010003       0       1   \n",
      "\n",
      "   Perstype  Seatpos  Sex  Vehno  Year  \n",
      "0         1       11    1      1  1992  \n",
      "1         1       11    1      1  1992  \n",
      "2         1       11    1      1  1992  \n",
      "3         2       13    1      1  1992  \n",
      "4         1       11    1      2  1992  \n",
      "(95691, 14)\n"
     ]
    }
   ],
   "source": [
    "PERSONS = readfars(1992,\"../FARS1992.zip\",\"per1992.dbf\")\n",
    "!rm per1992.dbf\n",
    "frames = [FARS,PERSONS]\n",
    "FARS = pd.concat(frames)"
   ]
  },
  {
   "cell_type": "code",
   "execution_count": 45,
   "metadata": {
    "collapsed": false
   },
   "outputs": [
    {
     "name": "stdout",
     "output_type": "stream",
     "text": [
      "['STATE', 'COUNTY', 'MONTH', 'DAY', 'HOUR', 'MINUTE', 'VE_FORMS', 'ROAD_FNC', 'HARM_EV', 'MAN_COLL', 'SCH_BUS', 'VEH_NO', 'MAKE', 'BODY_TYP', 'MOD_YEAR', 'ROLLOVER', 'TOW_VEH', 'SPEC_USE', 'EMER_USE', 'IMPACT1', 'IMPACT2', 'IMPACTS', 'FIRE_EXP', 'WGTCD_TR', 'PER_NO', 'N_MOT_NO', 'AGE', 'SEX', 'PER_TYP', 'SEAT_POS', 'LOCATION', 'EJECTION', 'EXTRICAT', 'ALC_DET', 'DRINKING', 'INJ_SEV', 'HOSPITAL', 'DEATH_MO', 'DEATH_DA', 'DEATH_YR', 'DEATH_HR', 'DEATH_MN', 'LAG_HRS', 'LAG_MINS', 'P_CF1', 'P_CF2', 'P_CF3', 'WORK_INJ', 'ST_CASE', 'MAK_MOD', 'VIN_WGT', 'WHLBS_SH', 'WHLBS_LG', 'MCYCL_DS', 'DEATH_TM', 'CERT_NO', 'SER_TR', 'VINA_MOD', 'VIN_BT', 'REST_USE', 'AIR_BAG', 'EJ_PATH', 'DRUGS', 'DRUG_DET', 'DRUGTEST', 'DRUG_RES', 'ALC_RES']\n",
      "   Age  Airbag  Alcres   Case  Drinking  Ejected          ID  Injsev  Persno  \\\n",
      "0   30       9    96.0  10001         0        0  1991010001       4       1   \n",
      "1   33       9    96.0  10001         8        0  1991010001       3       2   \n",
      "2   25       9    97.0  10002         9        0  1991010002       3       1   \n",
      "3   26       9    96.0  10002         8        0  1991010002       3       2   \n",
      "4   26       9    96.0  10002         0        0  1991010002       0       1   \n",
      "\n",
      "   Perstype  Seatpos  Sex  Vehno  Year  \n",
      "0         1       11    1      1  1991  \n",
      "1         2       13    1      1  1991  \n",
      "2         1       11    2      1  1991  \n",
      "3         2       13    1      1  1991  \n",
      "4         1       11    2      2  1991  \n",
      "(99369, 14)\n"
     ]
    }
   ],
   "source": [
    "PERSONS = readfars(1991,\"../FARS1991.zip\",\"per1991.dbf\")\n",
    "!rm per1991.dbf\n",
    "frames = [FARS,PERSONS]\n",
    "FARS = pd.concat(frames)"
   ]
  },
  {
   "cell_type": "code",
   "execution_count": 49,
   "metadata": {
    "collapsed": false
   },
   "outputs": [
    {
     "name": "stdout",
     "output_type": "stream",
     "text": [
      "['STATE', 'COUNTY', 'MONTH', 'DAY', 'HOUR', 'MINUTE', 'VE_FORMS', 'ROAD_FNC', 'HARM_EV', 'MAN_COLL', 'SCH_BUS', 'VEH_NO', 'MAKE', 'BODY_TYP', 'MOD_YEAR', 'ROLLOVER', 'TOW_VEH', 'SPEC_USE', 'EMER_USE', 'IMPACT1', 'IMPACT2', 'IMPACTS', 'FIRE_EXP', 'WGTCD_TR', 'PER_NO', 'N_MOT_NO', 'AGE', 'SEX', 'PER_TYP', 'SEAT_POS', 'MAN_REST', 'AUT_REST', 'LOCATION', 'EJECTION', 'EXTRICAT', 'ALC_DET', 'DRINKING', 'TEST_RES', 'TOXCLGY', 'INJ_SEV', 'HOSPITAL', 'DEATH_MO', 'DEATH_DA', 'DEATH_YR', 'DEATH_HR', 'DEATH_MN', 'LAG_HRS', 'LAG_MINS', 'P_CF1', 'P_CF2', 'P_CF3', 'WORK_INJ', 'ST_CASE', 'MAK_MOD', 'VIN_WGT', 'WHLBS_SH', 'WHLBS_LG', 'MCYCL_DS', 'DEATH_TM', 'SER_TR', 'VINA_MOD', 'VIN_BT']\n",
      "   Age Airbag Alcres   Case  Drinking  Ejected          ID  Injsev  Persno  \\\n",
      "0   25   None   None  10001         1        0  1990010001       4       1   \n",
      "1   22   None   None  10002         1        0  1990010002       4       1   \n",
      "2   15   None   None  10002         8        0  1990010002       3       2   \n",
      "3   30   None   None  10003         0        0  1990010003       0       1   \n",
      "4   79   None   None  10003         0        0  1990010003       4       1   \n",
      "\n",
      "   Perstype  Seatpos  Sex  Vehno  Year  \n",
      "0         1       11    1      1  1990  \n",
      "1         1       11    1      1  1990  \n",
      "2         2       13    2      1  1990  \n",
      "3         1       11    1      1  1990  \n",
      "4         1       11    1      2  1990  \n",
      "(107777, 14)\n"
     ]
    }
   ],
   "source": [
    "PERSONS = readfars(1990,\"../FARS1990.zip\",\"per1990.dbf\")\n",
    "!rm per1990.dbf\n",
    "frames = [FARS,PERSONS]\n",
    "FARS = pd.concat(frames)"
   ]
  },
  {
   "cell_type": "code",
   "execution_count": 50,
   "metadata": {
    "collapsed": false
   },
   "outputs": [
    {
     "name": "stdout",
     "output_type": "stream",
     "text": [
      "['STATE', 'COUNTY', 'MONTH', 'DAY', 'HOUR', 'MINUTE', 'VE_FORMS', 'ROAD_FNC', 'HARM_EV', 'MAN_COLL', 'SCH_BUS', 'VEH_NO', 'MAKE', 'BODY_TYP', 'MOD_YEAR', 'ROLLOVER', 'TOW_VEH', 'SPEC_USE', 'EMER_USE', 'IMPACT1', 'IMPACT2', 'IMPACTS', 'FIRE_EXP', 'WGTCD_TR', 'PER_NO', 'N_MOT_NO', 'AGE', 'SEX', 'PER_TYP', 'SEAT_POS', 'MAN_REST', 'AUT_REST', 'LOCATION', 'EJECTION', 'EXTRICAT', 'ALC_DET', 'DRINKING', 'TEST_RES', 'TOXCLGY', 'INJ_SEV', 'HOSPITAL', 'DEATH_MO', 'DEATH_DA', 'DEATH_YR', 'DEATH_HR', 'DEATH_MN', 'LAG_HRS', 'LAG_MINS', 'P_CF1', 'P_CF2', 'P_CF3', 'WORK_INJ', 'ST_CASE', 'MAK_MOD', 'VIN_WGT', 'WHLBS_SH', 'WHLBS_LG', 'MCYCL_DS', 'DEATH_TM', 'SER_TR', 'VINA_MOD', 'VIN_BT']\n",
      "   Age Airbag Alcres   Case  Drinking  Ejected          ID  Injsev  Persno  \\\n",
      "0   16   None   None  10001         0        1  1989010001       3       1   \n",
      "1   15   None   None  10001         8        0  1989010001       4       2   \n",
      "2   16   None   None  10001         8        0  1989010001       3       3   \n",
      "3   45   None   None  10002         1        2  1989010002       4       1   \n",
      "4   29   None   None  10002         8        0  1989010002       4       2   \n",
      "\n",
      "   Perstype  Seatpos  Sex  Vehno  Year  \n",
      "0         1       11    2      1  1989  \n",
      "1         2       13    2      1  1989  \n",
      "2         2       21    2      1  1989  \n",
      "3         1       11    1      1  1989  \n",
      "4         2       13    1      1  1989  \n",
      "(109866, 14)\n"
     ]
    }
   ],
   "source": [
    "PERSONS = readfars(1989,\"../FARS1989.zip\",\"per1989.dbf\")\n",
    "!rm per1989.dbf\n",
    "frames = [FARS,PERSONS]\n",
    "FARS = pd.concat(frames)"
   ]
  },
  {
   "cell_type": "code",
   "execution_count": 51,
   "metadata": {
    "collapsed": false
   },
   "outputs": [
    {
     "name": "stdout",
     "output_type": "stream",
     "text": [
      "['STATE', 'COUNTY', 'MONTH', 'DAY', 'HOUR', 'MINUTE', 'VE_FORMS', 'ROAD_FNC', 'HARM_EV', 'MAN_COLL', 'SCH_BUS', 'VEH_NO', 'MAKE', 'BODY_TYP', 'MOD_YEAR', 'ROLLOVER', 'TOW_VEH', 'SPEC_USE', 'EMER_USE', 'IMPACT1', 'IMPACT2', 'IMPACTS', 'FIRE_EXP', 'WGTCD_TR', 'PER_NO', 'N_MOT_NO', 'AGE', 'SEX', 'PER_TYP', 'SEAT_POS', 'MAN_REST', 'AUT_REST', 'LOCATION', 'EJECTION', 'EXTRICAT', 'ALC_DET', 'DRINKING', 'TEST_RES', 'TOXCLGY', 'INJ_SEV', 'HOSPITAL', 'DEATH_MO', 'DEATH_DA', 'DEATH_YR', 'DEATH_HR', 'DEATH_MN', 'LAG_HRS', 'LAG_MINS', 'P_CF1', 'P_CF2', 'P_CF3', 'WORK_INJ', 'ST_CASE', 'MAK_MOD', 'VIN_WGT', 'WHLBS_SH', 'WHLBS_LG', 'MCYCL_DS', 'DEATH_TM', 'SER_TR', 'VINA_MOD', 'VIN_BT']\n",
      "   Age Airbag Alcres   Case  Drinking  Ejected          ID  Injsev  Persno  \\\n",
      "0   26   None   None  10001         0        0  1988010001       4       1   \n",
      "1   18   None   None  10002         0        0  1988010002       3       1   \n",
      "2   18   None   None  10002         8        0  1988010002       4       2   \n",
      "3   28   None   None  10002         0        0  1988010002       3       1   \n",
      "4   21   None   None  10002         8        0  1988010002       3       2   \n",
      "\n",
      "   Perstype  Seatpos  Sex  Vehno  Year  \n",
      "0         1       11    1      1  1988  \n",
      "1         1       11    2      1  1988  \n",
      "2         2       13    2      1  1988  \n",
      "3         1       11    1      2  1988  \n",
      "4         2       13    1      2  1988  \n",
      "(112958, 14)\n"
     ]
    }
   ],
   "source": [
    "PERSONS = readfars(1988,\"../FARS1988.zip\",\"per1988.dbf\")\n",
    "!rm per1988.dbf\n",
    "frames = [FARS,PERSONS]\n",
    "FARS = pd.concat(frames)"
   ]
  },
  {
   "cell_type": "code",
   "execution_count": 52,
   "metadata": {
    "collapsed": false
   },
   "outputs": [
    {
     "name": "stdout",
     "output_type": "stream",
     "text": [
      "['STATE', 'COUNTY', 'MONTH', 'DAY', 'HOUR', 'MINUTE', 'VE_FORMS', 'ROAD_FNC', 'HARM_EV', 'MAN_COLL', 'SCH_BUS', 'VEH_NO', 'MAKE', 'BODY_TYP', 'MOD_YEAR', 'ROLLOVER', 'TOW_VEH', 'SPEC_USE', 'EMER_USE', 'IMPACT1', 'IMPACT2', 'IMPACTS', 'FIRE_EXP', 'WGTCD_TR', 'PER_NO', 'N_MOT_NO', 'AGE', 'SEX', 'PER_TYP', 'SEAT_POS', 'MAN_REST', 'AUT_REST', 'LOCATION', 'EJECTION', 'EXTRICAT', 'ALC_DET', 'DRINKING', 'TEST_RES', 'TOXCLGY', 'INJ_SEV', 'HOSPITAL', 'DEATH_MO', 'DEATH_DA', 'DEATH_YR', 'DEATH_HR', 'DEATH_MN', 'LAG_HRS', 'LAG_MINS', 'P_CF1', 'P_CF2', 'P_CF3', 'WORK_INJ', 'ST_CASE', 'MAK_MOD', 'VIN_WGT', 'WHLBS_SH', 'WHLBS_LG', 'MCYCL_DS', 'DEATH_TM', 'SER_TR', 'VINA_MOD', 'VIN_BT']\n",
      "   Age Airbag Alcres   Case  Drinking  Ejected          ID  Injsev  Persno  \\\n",
      "0   15   None   None  10001         1        0  1987010001       3       1   \n",
      "1   16   None   None  10001         8        0  1987010001       4       2   \n",
      "2   16   None   None  10001         8        0  1987010001       3       3   \n",
      "3   64   None   None  10002         0        0  1987010002       0       1   \n",
      "4   99   None   None  10002         8        0  1987010002       0       2   \n",
      "\n",
      "   Perstype  Seatpos  Sex  Vehno  Year  \n",
      "0         1       11    1      1  1987  \n",
      "1         2       13    1      1  1987  \n",
      "2         2       23    1      1  1987  \n",
      "3         1       11    1      1  1987  \n",
      "4         2       13    9      1  1987  \n",
      "(111457, 14)\n"
     ]
    }
   ],
   "source": [
    "PERSONS = readfars(1987,\"../FARS1987.zip\",\"per1987.dbf\")\n",
    "!rm per1987.dbf\n",
    "frames = [FARS,PERSONS]\n",
    "FARS = pd.concat(frames)"
   ]
  },
  {
   "cell_type": "code",
   "execution_count": 53,
   "metadata": {
    "collapsed": false
   },
   "outputs": [
    {
     "name": "stdout",
     "output_type": "stream",
     "text": [
      "['STATE', 'COUNTY', 'MONTH', 'DAY', 'HOUR', 'MINUTE', 'VE_FORMS', 'ROAD_FNC', 'HARM_EV', 'MAN_COLL', 'SCH_BUS', 'VEH_NO', 'MAKE', 'BODY_TYP', 'MOD_YEAR', 'ROLLOVER', 'TOW_VEH', 'SPEC_USE', 'EMER_USE', 'IMPACT1', 'IMPACT2', 'IMPACTS', 'FIRE_EXP', 'WGTCD_TR', 'PER_NO', 'N_MOT_NO', 'AGE', 'SEX', 'PER_TYP', 'SEAT_POS', 'MAN_REST', 'AUT_REST', 'LOCATION', 'EJECTION', 'EXTRICAT', 'DRINKING', 'TEST_RES', 'INJ_SEV', 'HOSPITAL', 'DEATH_MO', 'DEATH_DA', 'DEATH_YR', 'DEATH_HR', 'DEATH_MN', 'LAG_HRS', 'LAG_MINS', 'P_CF1', 'P_CF2', 'P_CF3', 'ST_CASE', 'MAK_MOD', 'VIN_WGT', 'WHLBS_SH', 'WHLBS_LG', 'MCYCL_DS', 'DEATH_TM', 'VINA_MOD', 'SER_TR', 'VIN_BT']\n",
      "   Age Airbag Alcres   Case  Drinking  Ejected          ID  Injsev  Persno  \\\n",
      "0   46   None   None  10001         1        0  1986010001       4       1   \n",
      "1   39   None   None  10001         0        0  1986010001       0       1   \n",
      "2   27   None   None  10002         9        0  1986010002       4       1   \n",
      "3   20   None   None  10002         8        0  1986010002       2       2   \n",
      "4   60   None   None  10002         0        0  1986010002       3       1   \n",
      "\n",
      "   Perstype  Seatpos  Sex  Vehno  Year  \n",
      "0         5        0    2      0  1986  \n",
      "1         1       11    2      1  1986  \n",
      "2         1       11    1      1  1986  \n",
      "3         2       13    1      1  1986  \n",
      "4         1       11    1      2  1986  \n",
      "(109073, 14)\n"
     ]
    }
   ],
   "source": [
    "PERSONS = readfars(1986,\"../FARS1986.zip\",\"per1986.dbf\")\n",
    "!rm per1986.dbf\n",
    "frames = [FARS,PERSONS]\n",
    "FARS = pd.concat(frames)"
   ]
  },
  {
   "cell_type": "code",
   "execution_count": 54,
   "metadata": {
    "collapsed": false
   },
   "outputs": [
    {
     "name": "stdout",
     "output_type": "stream",
     "text": [
      "['STATE', 'COUNTY', 'MONTH', 'DAY', 'HOUR', 'MINUTE', 'VE_FORMS', 'ROAD_FNC', 'HARM_EV', 'MAN_COLL', 'SCH_BUS', 'VEH_NO', 'MAKE', 'BODY_TYP', 'MOD_YEAR', 'ROLLOVER', 'TOW_VEH', 'SPEC_USE', 'EMER_USE', 'IMPACT1', 'IMPACT2', 'IMPACTS', 'FIRE_EXP', 'WGTCD_TR', 'PER_NO', 'N_MOT_NO', 'AGE', 'SEX', 'PER_TYP', 'SEAT_POS', 'MAN_REST', 'AUT_REST', 'LOCATION', 'EJECTION', 'EXTRICAT', 'DRINKING', 'TEST_RES', 'INJ_SEV', 'HOSPITAL', 'DEATH_MO', 'DEATH_DA', 'DEATH_YR', 'DEATH_HR', 'DEATH_MN', 'LAG_HRS', 'LAG_MINS', 'P_CF1', 'P_CF2', 'P_CF3', 'ST_CASE', 'MAK_MOD', 'VIN_WGT', 'WHLBS_SH', 'WHLBS_LG', 'MCYCL_DS', 'DEATH_TM', 'VINA_MOD', 'SER_TR', 'VIN_BT']\n",
      "   Age Airbag Alcres   Case  Drinking  Ejected          ID  Injsev  Persno  \\\n",
      "0   38   None   None  10002         0        0  1985010002       4       1   \n",
      "1   20   None   None  10003         1        0  1985010003       3       1   \n",
      "2   20   None   None  10003         8        1  1985010003       4       2   \n",
      "3   19   None   None  10004         0        0  1985010004       4       1   \n",
      "4   21   None   None  10005         9        0  1985010005       4       1   \n",
      "\n",
      "   Perstype  Seatpos  Sex  Vehno  Year  \n",
      "0         1       11    1      1  1985  \n",
      "1         1       11    1      1  1985  \n",
      "2         2       13    2      1  1985  \n",
      "3         1       11    1      1  1985  \n",
      "4         1       11    1      1  1985  \n",
      "(104045, 14)\n"
     ]
    }
   ],
   "source": [
    "PERSONS = readfars(1985,\"../FARS1985.zip\",\"per1985.dbf\")\n",
    "!rm per1985.dbf\n",
    "frames = [FARS,PERSONS]\n",
    "FARS = pd.concat(frames)"
   ]
  },
  {
   "cell_type": "code",
   "execution_count": 55,
   "metadata": {
    "collapsed": false
   },
   "outputs": [
    {
     "name": "stdout",
     "output_type": "stream",
     "text": [
      "['STATE', 'COUNTY', 'MONTH', 'DAY', 'HOUR', 'MINUTE', 'VE_FORMS', 'ROAD_FNC', 'HARM_EV', 'MAN_COLL', 'SCH_BUS', 'VEH_NO', 'MAKE', 'BODY_TYP', 'MOD_YEAR', 'ROLLOVER', 'TOW_VEH', 'SPEC_USE', 'EMER_USE', 'IMPACT1', 'IMPACT2', 'IMPACTS', 'FIRE_EXP', 'WGTCD_TR', 'PER_NO', 'N_MOT_NO', 'AGE', 'SEX', 'PER_TYP', 'SEAT_POS', 'MAN_REST', 'AUT_REST', 'LOCATION', 'EJECTION', 'EXTRICAT', 'DRINKING', 'TEST_RES', 'INJ_SEV', 'HOSPITAL', 'DEATH_MO', 'DEATH_DA', 'DEATH_YR', 'DEATH_HR', 'DEATH_MN', 'LAG_HRS', 'LAG_MINS', 'P_CF1', 'P_CF2', 'P_CF3', 'ST_CASE', 'MAK_MOD', 'VIN_WGT', 'WHLBS_SH', 'WHLBS_LG', 'MCYCL_DS', 'DEATH_TM', 'VINA_MOD', 'SER_TR', 'VIN_BT']\n",
      "   Age Airbag Alcres   Case  Drinking  Ejected          ID  Injsev  Persno  \\\n",
      "0   18   None   None  10001         0        0  1984010001       4       1   \n",
      "1   29   None   None  10002         1        0  1984010002       3       1   \n",
      "2   30   None   None  10002         8        0  1984010002       4       2   \n",
      "3   20   None   None  10003         0        0  1984010003       0       1   \n",
      "4   99   None   None  10003         8        0  1984010003       0       2   \n",
      "\n",
      "   Perstype  Seatpos  Sex  Vehno  Year  \n",
      "0         1       11    1      1  1984  \n",
      "1         1       11    1      1  1984  \n",
      "2         2       13    2      1  1984  \n",
      "3         1       11    1      1  1984  \n",
      "4         2       13    9      1  1984  \n",
      "(103348, 14)\n"
     ]
    }
   ],
   "source": [
    "PERSONS = readfars(1984,\"../FARS1984.zip\",\"per1984.dbf\")\n",
    "!rm per1984.dbf\n",
    "frames = [FARS,PERSONS]\n",
    "FARS = pd.concat(frames)"
   ]
  },
  {
   "cell_type": "code",
   "execution_count": 56,
   "metadata": {
    "collapsed": false
   },
   "outputs": [
    {
     "name": "stdout",
     "output_type": "stream",
     "text": [
      "['STATE', 'COUNTY', 'MONTH', 'DAY', 'HOUR', 'MINUTE', 'VE_FORMS', 'ROAD_FNC', 'HARM_EV', 'MAN_COLL', 'SCH_BUS', 'VEH_NO', 'MAKE', 'BODY_TYP', 'MOD_YEAR', 'ROLLOVER', 'TOW_VEH', 'SPEC_USE', 'EMER_USE', 'IMPACT1', 'IMPACT2', 'IMPACTS', 'FIRE_EXP', 'WGTCD_TR', 'PER_NO', 'N_MOT_NO', 'AGE', 'SEX', 'PER_TYP', 'SEAT_POS', 'MAN_REST', 'AUT_REST', 'LOCATION', 'EJECTION', 'EXTRICAT', 'DRINKING', 'TEST_RES', 'INJ_SEV', 'HOSPITAL', 'DEATH_MO', 'DEATH_DA', 'DEATH_YR', 'DEATH_HR', 'DEATH_MN', 'LAG_HRS', 'LAG_MINS', 'P_CF1', 'P_CF2', 'P_CF3', 'ST_CASE', 'MAK_MOD', 'VIN_WGT', 'WHLBS_SH', 'WHLBS_LG', 'MCYCL_DS', 'DEATH_TM', 'VINA_MOD', 'SER_TR', 'VIN_BT']\n",
      "   Age Airbag Alcres   Case  Drinking  Ejected          ID  Injsev  Persno  \\\n",
      "0   35   None   None  10001         0        0  1983010001       3       1   \n",
      "1   43   None   None  10001         0        0  1983010001       4       1   \n",
      "2   39   None   None  10001         8        0  1983010001       3       2   \n",
      "3   36   None   None  10002         9        0  1983010002       4       1   \n",
      "4   14   None   None  10002         9        0  1983010002       3       1   \n",
      "\n",
      "   Perstype  Seatpos  Sex  Vehno  Year  \n",
      "0         1       11    1      1  1983  \n",
      "1         1       11    1      2  1983  \n",
      "2         2       13    2      2  1983  \n",
      "3         1       11    1      1  1983  \n",
      "4         1       11    1      2  1983  \n",
      "(99316, 14)\n"
     ]
    }
   ],
   "source": [
    "PERSONS = readfars(1983,\"../FARS1983.zip\",\"per1983.dbf\")\n",
    "!rm per1983.dbf\n",
    "frames = [FARS,PERSONS]\n",
    "FARS = pd.concat(frames)"
   ]
  },
  {
   "cell_type": "code",
   "execution_count": 57,
   "metadata": {
    "collapsed": false
   },
   "outputs": [
    {
     "name": "stdout",
     "output_type": "stream",
     "text": [
      "['STATE', 'COUNTY', 'MONTH', 'DAY', 'HOUR', 'MINUTE', 'VE_FORMS', 'ROAD_FNC', 'HARM_EV', 'MAN_COLL', 'SCH_BUS', 'VEH_NO', 'MAKE', 'BODY_TYP', 'MOD_YEAR', 'ROLLOVER', 'TOW_VEH', 'SPEC_USE', 'EMER_USE', 'IMPACT1', 'IMPACT2', 'IMPACTS', 'FIRE_EXP', 'WGTCD_TR', 'PER_NO', 'N_MOT_NO', 'AGE', 'SEX', 'PER_TYP', 'SEAT_POS', 'MAN_REST', 'AUT_REST', 'LOCATION', 'EJECTION', 'EXTRICAT', 'DRINKING', 'TEST_RES', 'INJ_SEV', 'HOSPITAL', 'DEATH_MO', 'DEATH_DA', 'DEATH_YR', 'DEATH_HR', 'DEATH_MN', 'LAG_HRS', 'LAG_MINS', 'P_CF1', 'P_CF2', 'P_CF3', 'ST_CASE', 'MAK_MOD', 'VIN_WGT', 'WHLBS_SH', 'WHLBS_LG', 'MCYCL_DS', 'DEATH_TM', 'VINA_MOD', 'SER_TR', 'VIN_BT']\n",
      "   Age Airbag Alcres   Case  Drinking  Ejected          ID  Injsev  Persno  \\\n",
      "0   74   None   None  10001         9        0  1982010001       4       1   \n",
      "1   71   None   None  10001         0        0  1982010001       4       2   \n",
      "2   38   None   None  10002         9        0  1982010002       4       1   \n",
      "3   41   None   None  10003         1        1  1982010003       4       1   \n",
      "4   19   None   None  10004         1        1  1982010004       3       1   \n",
      "\n",
      "   Perstype  Seatpos  Sex  Vehno  Year  \n",
      "0         1       11    1      1  1982  \n",
      "1         2       13    2      1  1982  \n",
      "2         1       11    1      1  1982  \n",
      "3         1       11    1      1  1982  \n",
      "4         1       11    1      1  1982  \n",
      "(102120, 14)\n"
     ]
    }
   ],
   "source": [
    "PERSONS = readfars(1982,\"../FARS1982.zip\",\"person.dbf\")\n",
    "!rm person.dbf\n",
    "frames = [FARS,PERSONS]\n",
    "FARS = pd.concat(frames)"
   ]
  },
  {
   "cell_type": "code",
   "execution_count": 58,
   "metadata": {
    "collapsed": false
   },
   "outputs": [
    {
     "name": "stdout",
     "output_type": "stream",
     "text": [
      "['STATE', 'COUNTY', 'MONTH', 'DAY', 'HOUR', 'MINUTE', 'VE_FORMS', 'ROAD_FNC', 'HARM_EV', 'MAN_COLL', 'SCH_BUS', 'VEH_NO', 'MAKE', 'BODY_TYP', 'MOD_YEAR', 'ROLLOVER', 'TOW_VEH', 'SPEC_USE', 'EMER_USE', 'IMPACT1', 'IMPACT2', 'IMPACTS', 'FIRE_EXP', 'WGTCD_TR', 'PER_NO', 'AGE', 'SEX', 'PER_TYP', 'SEAT_POS', 'MAN_REST', 'AUT_REST', 'LOCATION', 'EJECTION', 'EXTRICAT', 'DRINKING', 'TEST_RES', 'INJ_SEV', 'HOSPITAL', 'DEATH_MO', 'DEATH_DA', 'DEATH_YR', 'DEATH_HR', 'DEATH_MN', 'LAG_HRS', 'LAG_MINS', 'P_CF1', 'P_CF2', 'P_CF3', 'ST_CASE', 'MAK_MOD', 'VIN_WGT', 'WHLBS_SH', 'WHLBS_LG', 'MCYCL_DS', 'DEATH_TM', 'VINA_MOD', 'SER_TR']\n",
      "   Age Airbag Alcres   Case  Drinking  Ejected          ID  Injsev  Persno  \\\n",
      "0   50   None   None  10001         0        1  1981010001       4       1   \n",
      "1   24   None   None  10001         0        0  1981010001       3       1   \n",
      "2   46   None   None  10002         0        0  1981010002       4       1   \n",
      "3   40   None   None  10002         0        0  1981010002       3       2   \n",
      "4    5   None   None  10002         0        0  1981010002       3       3   \n",
      "\n",
      "   Perstype  Seatpos  Sex  Vehno  Year  \n",
      "0         1        1    2      1  1981  \n",
      "1         1        1    1      2  1981  \n",
      "2         1        1    2      1  1981  \n",
      "3         2        3    1      1  1981  \n",
      "4         2        5    2      1  1981  \n",
      "(112460, 14)\n"
     ]
    }
   ],
   "source": [
    "PERSONS = readfars(1981,\"../FARS1981.zip\",\"person.dbf\")\n",
    "!rm person.dbf\n",
    "frames = [FARS,PERSONS]\n",
    "FARS = pd.concat(frames)"
   ]
  },
  {
   "cell_type": "code",
   "execution_count": 59,
   "metadata": {
    "collapsed": false
   },
   "outputs": [
    {
     "name": "stdout",
     "output_type": "stream",
     "text": [
      "['STATE', 'COUNTY', 'MONTH', 'DAY', 'HOUR', 'MINUTE', 'VE_FORMS', 'ROAD_FNC', 'HARM_EV', 'MAN_COLL', 'SCH_BUS', 'VEH_NO', 'MAKE', 'BODY_TYP', 'MOD_YEAR', 'ROLLOVER', 'TOW_VEH', 'SPEC_USE', 'EMER_USE', 'IMPACT1', 'IMPACT2', 'IMPACTS', 'FIRE_EXP', 'WGTCD_TR', 'PER_NO', 'AGE', 'SEX', 'PER_TYP', 'SEAT_POS', 'MAN_REST', 'AUT_REST', 'LOCATION', 'EJECTION', 'EXTRICAT', 'DRINKING', 'TEST_RES', 'INJ_SEV', 'HOSPITAL', 'DEATH_MO', 'DEATH_DA', 'DEATH_YR', 'DEATH_HR', 'DEATH_MN', 'LAG_HRS', 'LAG_MINS', 'P_CF1', 'P_CF2', 'P_CF3', 'ST_CASE', 'MAK_MOD', 'VIN_WGT', 'WHLBS_SH', 'WHLBS_LG', 'MCYCL_DS', 'DEATH_TM', 'VINA_MOD', 'SER_TR']\n",
      "   Age Airbag Alcres   Case  Drinking  Ejected          ID  Injsev  Persno  \\\n",
      "0   54   None   None  10001         0        0  1980010001       4       1   \n",
      "1   53   None   None  10001         0        0  1980010001       3       1   \n",
      "2   16   None   None  10002         0        0  1980010002       4       1   \n",
      "3   54   None   None  10002         0        0  1980010002       4       1   \n",
      "4   25   None   None  10003         1        0  1980010003       4       1   \n",
      "\n",
      "   Perstype  Seatpos  Sex  Vehno  Year  \n",
      "0         1        1    1      1  1980  \n",
      "1         1        1    1      2  1980  \n",
      "2         1        1    1      1  1980  \n",
      "3         1        1    2      2  1980  \n",
      "4         1        1    1      1  1980  \n",
      "(113289, 14)\n"
     ]
    }
   ],
   "source": [
    "PERSONS = readfars(1980,\"../FARS1980.zip\",\"person.dbf\")\n",
    "!rm person.dbf\n",
    "frames = [FARS,PERSONS]\n",
    "FARS = pd.concat(frames)"
   ]
  },
  {
   "cell_type": "code",
   "execution_count": 60,
   "metadata": {
    "collapsed": false
   },
   "outputs": [
    {
     "name": "stdout",
     "output_type": "stream",
     "text": [
      "['STATE', 'COUNTY', 'MONTH', 'DAY', 'HOUR', 'MINUTE', 'VE_FORMS', 'ROAD_FNC', 'HARM_EV', 'MAN_COLL', 'SCH_BUS', 'VEH_NO', 'MAKE', 'BODY_TYP', 'MOD_YEAR', 'ROLLOVER', 'TOW_VEH', 'SPEC_USE', 'EMER_USE', 'IMPACT1', 'IMPACT2', 'IMPACTS', 'FIRE_EXP', 'WGTCD_TR', 'PER_NO', 'AGE', 'SEX', 'PER_TYP', 'SEAT_POS', 'MAN_REST', 'AUT_REST', 'LOCATION', 'EJECTION', 'EXTRICAT', 'DRINKING', 'TEST_RES', 'INJ_SEV', 'HOSPITAL', 'DEATH_MO', 'DEATH_DA', 'DEATH_YR', 'DEATH_HR', 'DEATH_MN', 'LAG_HRS', 'LAG_MINS', 'P_CF1', 'P_CF2', 'P_CF3', 'ST_CASE', 'MAK_MOD', 'VIN_WGT', 'WHLBS_SH', 'WHLBS_LG', 'MCYCL_DS', 'DEATH_TM', 'VINA_MOD', 'SER_TR']\n",
      "   Age Airbag Alcres   Case  Drinking  Ejected          ID  Injsev  Persno  \\\n",
      "0   45   None   None  10001         1        0  1979010001       3       1   \n",
      "1   29   None   None  10001         0        0  1979010001       4       2   \n",
      "2   19   None   None  10001         0        0  1979010001       3       3   \n",
      "3   46   None   None  10001         0        0  1979010001       4       1   \n",
      "4    9   None   None  10001         0        0  1979010001       4       2   \n",
      "\n",
      "   Perstype  Seatpos  Sex  Vehno  Year  \n",
      "0         1        1    1      1  1979  \n",
      "1         2       99    2      1  1979  \n",
      "2         2       99    2      1  1979  \n",
      "3         1        1    1      2  1979  \n",
      "4         2       99    1      2  1979  \n",
      "(114885, 14)\n"
     ]
    }
   ],
   "source": [
    "PERSONS = readfars(1979,\"../FARS1979.zip\",\"person.dbf\")\n",
    "!rm person.dbf\n",
    "frames = [FARS,PERSONS]\n",
    "FARS = pd.concat(frames)"
   ]
  },
  {
   "cell_type": "code",
   "execution_count": 61,
   "metadata": {
    "collapsed": false
   },
   "outputs": [
    {
     "name": "stdout",
     "output_type": "stream",
     "text": [
      "['STATE', 'COUNTY', 'MONTH', 'DAY', 'HOUR', 'MINUTE', 'VE_FORMS', 'ROAD_FNC', 'HARM_EV', 'MAN_COLL', 'SCH_BUS', 'VEH_NO', 'MAKE', 'BODY_TYP', 'MOD_YEAR', 'ROLLOVER', 'TOW_VEH', 'SPEC_USE', 'EMER_USE', 'IMPACT1', 'IMPACT2', 'IMPACTS', 'FIRE_EXP', 'WGTCD_TR', 'PER_NO', 'AGE', 'SEX', 'PER_TYP', 'SEAT_POS', 'MAN_REST', 'AUT_REST', 'LOCATION', 'EJECTION', 'EXTRICAT', 'DRINKING', 'TEST_RES', 'INJ_SEV', 'HOSPITAL', 'DEATH_MO', 'DEATH_DA', 'DEATH_YR', 'DEATH_HR', 'DEATH_MN', 'LAG_HRS', 'LAG_MINS', 'P_CF1', 'P_CF2', 'P_CF3', 'ST_CASE', 'MAK_MOD', 'VIN_WGT', 'WHLBS_SH', 'WHLBS_LG', 'MCYCL_DS', 'DEATH_TM', 'VINA_MOD', 'SER_TR']\n",
      "   Age Airbag Alcres   Case  Drinking  Ejected          ID  Injsev  Persno  \\\n",
      "0   50   None   None  10001         0        0  1978010001       4       1   \n",
      "1   18   None   None  10001         0        0  1978010001       0       1   \n",
      "2   23   None   None  10002         0        0  1978010002       4       1   \n",
      "3   61   None   None  10002         0        2  1978010002       4       2   \n",
      "4   41   None   None  10002         0        1  1978010002       3       3   \n",
      "\n",
      "   Perstype  Seatpos  Sex  Vehno  Year  \n",
      "0         3        0    1      0  1978  \n",
      "1         1        1    1      1  1978  \n",
      "2         1        1    2      1  1978  \n",
      "3         2        3    2      1  1978  \n",
      "4         2        4    2      1  1978  \n",
      "(115161, 14)\n"
     ]
    }
   ],
   "source": [
    "PERSONS = readfars(1978,\"../FARS1978.zip\",\"PERSON.dbf\")\n",
    "!rm PERSON.dbf\n",
    "frames = [FARS,PERSONS]\n",
    "FARS = pd.concat(frames)"
   ]
  },
  {
   "cell_type": "code",
   "execution_count": 62,
   "metadata": {
    "collapsed": false
   },
   "outputs": [
    {
     "name": "stdout",
     "output_type": "stream",
     "text": [
      "['STATE', 'COUNTY', 'MONTH', 'DAY', 'HOUR', 'MINUTE', 'VE_FORMS', 'ROAD_FNC', 'HARM_EV', 'MAN_COLL', 'SCH_BUS', 'VEH_NO', 'MAKE', 'BODY_TYP', 'MOD_YEAR', 'ROLLOVER', 'TOW_VEH', 'SPEC_USE', 'EMER_USE', 'IMPACT1', 'IMPACT2', 'IMPACTS', 'FIRE_EXP', 'WGTCD_TR', 'PER_NO', 'AGE', 'SEX', 'PER_TYP', 'SEAT_POS', 'MAN_REST', 'AUT_REST', 'LOCATION', 'EJECTION', 'EXTRICAT', 'DRINKING', 'TEST_RES', 'INJ_SEV', 'HOSPITAL', 'DEATH_MO', 'DEATH_DA', 'DEATH_YR', 'DEATH_HR', 'DEATH_MN', 'LAG_HRS', 'LAG_MINS', 'P_CF1', 'P_CF2', 'P_CF3', 'ST_CASE', 'MAK_MOD', 'VIN_WGT', 'WHLBS_SH', 'WHLBS_LG', 'MCYCL_DS', 'DEATH_TM', 'VINA_MOD', 'SER_TR']\n",
      "   Age Airbag Alcres   Case  Drinking  Ejected          ID  Injsev  Persno  \\\n",
      "0   35   None   None  10001         1        0  1977010001       4       1   \n",
      "1   16   None   None  10001         0        9  1977010001       0       1   \n",
      "2   42   None   None  10001         0        0  1977010001       3       1   \n",
      "3   35   None   None  10001         0        0  1977010001       2       2   \n",
      "4   18   None   None  10002         0        0  1977010002       4       1   \n",
      "\n",
      "   Perstype  Seatpos  Sex  Vehno  Year  \n",
      "0         1        1    1      1  1977  \n",
      "1         1        1    1      2  1977  \n",
      "2         1        1    1      3  1977  \n",
      "3         2        3    1      3  1977  \n",
      "4         1        1    1      1  1977  \n",
      "(111108, 14)\n"
     ]
    }
   ],
   "source": [
    "PERSONS = readfars(1977,\"../FARS1977.zip\",\"PERSON.dbf\")\n",
    "!rm PERSON.dbf\n",
    "frames = [FARS,PERSONS]\n",
    "FARS = pd.concat(frames)"
   ]
  },
  {
   "cell_type": "code",
   "execution_count": 63,
   "metadata": {
    "collapsed": false
   },
   "outputs": [
    {
     "name": "stdout",
     "output_type": "stream",
     "text": [
      "['STATE', 'COUNTY', 'MONTH', 'DAY', 'HOUR', 'MINUTE', 'VE_FORMS', 'ROAD_FNC', 'HARM_EV', 'MAN_COLL', 'SCH_BUS', 'VEH_NO', 'MAKE', 'BODY_TYP', 'MOD_YEAR', 'ROLLOVER', 'TOW_VEH', 'SPEC_USE', 'EMER_USE', 'IMPACT1', 'IMPACT2', 'IMPACTS', 'FIRE_EXP', 'WGTCD_TR', 'PER_NO', 'AGE', 'SEX', 'PER_TYP', 'SEAT_POS', 'MAN_REST', 'AUT_REST', 'LOCATION', 'EJECTION', 'EXTRICAT', 'DRINKING', 'TEST_RES', 'INJ_SEV', 'HOSPITAL', 'DEATH_MO', 'DEATH_DA', 'DEATH_YR', 'DEATH_HR', 'DEATH_MN', 'LAG_HRS', 'LAG_MINS', 'P_CF1', 'P_CF2', 'P_CF3', 'ST_CASE', 'MAK_MOD', 'VIN_WGT', 'WHLBS_SH', 'WHLBS_LG', 'MCYCL_DS', 'DEATH_TM', 'VINA_MOD', 'SER_TR']\n",
      "   Age Airbag Alcres   Case Drinking  Ejected          ID  Injsev  Persno  \\\n",
      "0   65   None   None  10001     None        0  1976010001       0       1   \n",
      "1   47   None   None  10001     None        1  1976010001       4       1   \n",
      "2   34   None   None  10002     None        0  1976010002       1       1   \n",
      "3   86   None   None  10002     None        0  1976010002       4       1   \n",
      "4   62   None   None  10003     None        0  1976010003       4       1   \n",
      "\n",
      "   Perstype  Seatpos  Sex  Vehno  Year  \n",
      "0         1        1    1      1  1976  \n",
      "1         1        1    2      2  1976  \n",
      "2         1        1    1      1  1976  \n",
      "3         1        1    2      2  1976  \n",
      "4         3        0    1      0  1976  \n",
      "(105609, 14)\n"
     ]
    }
   ],
   "source": [
    "PERSONS = readfars(1976,\"../FARS1976.zip\",\"PERSON.dbf\")\n",
    "!rm PERSON.dbf\n",
    "frames = [FARS,PERSONS]\n",
    "FARS = pd.concat(frames)"
   ]
  },
  {
   "cell_type": "code",
   "execution_count": 64,
   "metadata": {
    "collapsed": false
   },
   "outputs": [
    {
     "name": "stdout",
     "output_type": "stream",
     "text": [
      "['STATE', 'COUNTY', 'MONTH', 'DAY', 'HOUR', 'MINUTE', 'VE_FORMS', 'ROAD_FNC', 'HARM_EV', 'MAN_COLL', 'SCH_BUS', 'VEH_NO', 'MAKE', 'BODY_TYP', 'MOD_YEAR', 'ROLLOVER', 'TOW_VEH', 'SPEC_USE', 'EMER_USE', 'IMPACT1', 'IMPACT2', 'IMPACTS', 'FIRE_EXP', 'WGTCD_TR', 'PER_NO', 'AGE', 'SEX', 'PER_TYP', 'SEAT_POS', 'MAN_REST', 'AUT_REST', 'LOCATION', 'EJECTION', 'EXTRICAT', 'DRINKING', 'TEST_RES', 'INJ_SEV', 'HOSPITAL', 'DEATH_MO', 'DEATH_DA', 'DEATH_YR', 'DEATH_HR', 'DEATH_MN', 'LAG_HRS', 'LAG_MINS', 'P_CF1', 'P_CF2', 'P_CF3', 'ST_CASE', 'MAK_MOD', 'VIN_WGT', 'WHLBS_SH', 'WHLBS_LG', 'MCYCL_DS', 'DEATH_TM', 'VINA_MOD', 'SER_TR']\n",
      "   Age Airbag Alcres   Case Drinking  Ejected          ID  Injsev  Persno  \\\n",
      "0   20   None   None  10001     None        9  1975010001       0       1   \n",
      "1   27   None   None  10001     None        9  1975010001       2       1   \n",
      "2   81   None   None  10001     None        9  1975010001       4       1   \n",
      "3   17   None   None  10002     None        2  1975010002       4       1   \n",
      "4   20   None   None  10002     None        1  1975010002       3       2   \n",
      "\n",
      "   Perstype  Seatpos  Sex  Vehno  Year  \n",
      "0         1        1    1      1  1975  \n",
      "1         1        1    1      2  1975  \n",
      "2         1        1    1      3  1975  \n",
      "3         1        1    1      1  1975  \n",
      "4         2        3    1      1  1975  \n",
      "(104889, 14)\n"
     ]
    }
   ],
   "source": [
    "PERSONS = readfars(1975,\"../FARS1975.zip\",\"PERSON.dbf\")\n",
    "!rm PERSON.dbf\n",
    "frames = [FARS,PERSONS]\n",
    "FARS = pd.concat(frames)"
   ]
  },
  {
   "cell_type": "code",
   "execution_count": 65,
   "metadata": {
    "collapsed": false
   },
   "outputs": [
    {
     "data": {
      "text/plain": [
       "(4052932, 14)"
      ]
     },
     "execution_count": 65,
     "metadata": {},
     "output_type": "execute_result"
    }
   ],
   "source": [
    "FARS.to_csv(\"PERSONS.csv\")\n",
    "FARS.shape"
   ]
  },
  {
   "cell_type": "code",
   "execution_count": null,
   "metadata": {
    "collapsed": true
   },
   "outputs": [],
   "source": []
  }
 ],
 "metadata": {
  "anaconda-cloud": {},
  "kernelspec": {
   "display_name": "Python [default]",
   "language": "python",
   "name": "python3"
  },
  "language_info": {
   "codemirror_mode": {
    "name": "ipython",
    "version": 3
   },
   "file_extension": ".py",
   "mimetype": "text/x-python",
   "name": "python",
   "nbconvert_exporter": "python",
   "pygments_lexer": "ipython3",
   "version": "3.5.2"
  }
 },
 "nbformat": 4,
 "nbformat_minor": 2
}
