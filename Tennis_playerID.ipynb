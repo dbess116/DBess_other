{
 "cells": [
  {
   "cell_type": "code",
   "execution_count": 35,
   "metadata": {
    "collapsed": true
   },
   "outputs": [],
   "source": [
    "import numpy as np              #standard imports\n",
    "import scipy as sc\n",
    "import pandas as pd\n",
    "import matplotlib as plt\n",
    "%matplotlib inline"
   ]
  },
  {
   "cell_type": "code",
   "execution_count": 36,
   "metadata": {
    "collapsed": false
   },
   "outputs": [
    {
     "name": "stdout",
     "output_type": "stream",
     "text": [
      " Volume in drive C is Windows\n",
      " Volume Serial Number is B23B-633B\n",
      "\n",
      " Directory of C:\\Users\\Daniel\\MTH420\\tennis_atp\n",
      "\n",
      "01/26/2017  05:53 PM    <DIR>          .\n",
      "01/26/2017  05:53 PM    <DIR>          ..\n",
      "01/26/2017  04:57 PM               395 .gitattributes\n",
      "01/26/2017  04:57 PM               617 .gitignore\n",
      "01/26/2017  05:46 PM    <DIR>          .ipynb_checkpoints\n",
      "01/26/2017  04:57 PM           215,878 atp_matches_1968.csv\n",
      "01/26/2017  04:57 PM           254,584 atp_matches_1969.csv\n",
      "01/26/2017  04:57 PM           294,108 atp_matches_1970.csv\n",
      "01/26/2017  04:57 PM           471,851 atp_matches_1971.csv\n",
      "01/26/2017  04:57 PM           511,670 atp_matches_1972.csv\n",
      "01/26/2017  04:57 PM           669,885 atp_matches_1973.csv\n",
      "01/26/2017  04:57 PM           696,709 atp_matches_1974.csv\n",
      "01/26/2017  04:57 PM           721,508 atp_matches_1975.csv\n",
      "01/26/2017  04:57 PM           697,442 atp_matches_1976.csv\n",
      "01/26/2017  04:57 PM           732,296 atp_matches_1977.csv\n",
      "01/26/2017  04:57 PM           701,739 atp_matches_1978.csv\n",
      "01/26/2017  04:57 PM           728,227 atp_matches_1979.csv\n",
      "01/26/2017  04:57 PM           721,073 atp_matches_1980.csv\n",
      "01/26/2017  04:57 PM           700,574 atp_matches_1981.csv\n",
      "01/26/2017  04:57 PM           731,977 atp_matches_1982.csv\n",
      "01/26/2017  04:57 PM           650,225 atp_matches_1983.csv\n",
      "01/26/2017  04:57 PM           590,839 atp_matches_1984.csv\n",
      "01/26/2017  04:57 PM           624,437 atp_matches_1985.csv\n",
      "01/26/2017  04:57 PM           596,498 atp_matches_1986.csv\n",
      "01/26/2017  04:57 PM           640,883 atp_matches_1987.csv\n",
      "01/26/2017  04:57 PM           688,382 atp_matches_1988.csv\n",
      "01/26/2017  04:57 PM           661,947 atp_matches_1989.csv\n",
      "01/26/2017  04:57 PM           631,627 atp_matches_1990.csv\n",
      "01/26/2017  04:57 PM           815,160 atp_matches_1991.csv\n",
      "01/26/2017  04:57 PM           833,328 atp_matches_1992.csv\n",
      "01/26/2017  04:57 PM           855,647 atp_matches_1993.csv\n",
      "01/26/2017  04:57 PM           865,333 atp_matches_1994.csv\n",
      "01/26/2017  04:57 PM           837,281 atp_matches_1995.csv\n",
      "01/26/2017  04:57 PM           831,146 atp_matches_1996.csv\n",
      "01/26/2017  04:57 PM           801,257 atp_matches_1997.csv\n",
      "01/26/2017  04:57 PM           795,021 atp_matches_1998.csv\n",
      "01/26/2017  04:57 PM           737,544 atp_matches_1999.csv\n",
      "01/26/2017  04:57 PM           743,454 atp_matches_2000.csv\n",
      "01/26/2017  04:57 PM           733,925 atp_matches_2001.csv\n",
      "01/26/2017  04:57 PM           716,460 atp_matches_2002.csv\n",
      "01/26/2017  04:57 PM           711,494 atp_matches_2003.csv\n",
      "01/26/2017  04:57 PM           724,782 atp_matches_2004.csv\n",
      "01/26/2017  04:57 PM           722,368 atp_matches_2005.csv\n",
      "01/26/2017  04:57 PM           723,729 atp_matches_2006.csv\n",
      "01/26/2017  04:57 PM           699,539 atp_matches_2007.csv\n",
      "01/26/2017  04:57 PM           690,940 atp_matches_2008.csv\n",
      "01/26/2017  04:57 PM           685,734 atp_matches_2009.csv\n",
      "01/26/2017  04:57 PM           680,408 atp_matches_2010.csv\n",
      "01/26/2017  04:57 PM           674,657 atp_matches_2011.csv\n",
      "01/26/2017  04:57 PM           670,040 atp_matches_2012.csv\n",
      "01/26/2017  04:57 PM           654,344 atp_matches_2013.csv\n",
      "01/26/2017  04:57 PM           641,227 atp_matches_2014.csv\n",
      "01/26/2017  04:57 PM           649,843 atp_matches_2015.csv\n",
      "01/26/2017  04:57 PM            65,792 atp_matches_2016.csv\n",
      "01/26/2017  04:57 PM         1,814,771 atp_matches_futures_1991.csv\n",
      "01/26/2017  04:57 PM         1,753,034 atp_matches_futures_1992.csv\n",
      "01/26/2017  04:57 PM         2,026,264 atp_matches_futures_1993.csv\n",
      "01/26/2017  04:57 PM         2,114,478 atp_matches_futures_1994.csv\n",
      "01/26/2017  04:57 PM         2,436,472 atp_matches_futures_1995.csv\n",
      "01/26/2017  04:57 PM         2,587,277 atp_matches_futures_1996.csv\n",
      "01/26/2017  04:57 PM         2,809,231 atp_matches_futures_1997.csv\n",
      "01/26/2017  04:57 PM         2,651,965 atp_matches_futures_1998.csv\n",
      "01/26/2017  04:57 PM         2,651,056 atp_matches_futures_1999.csv\n",
      "01/26/2017  04:57 PM         2,457,129 atp_matches_futures_2000.csv\n",
      "01/26/2017  04:57 PM         2,560,886 atp_matches_futures_2001.csv\n",
      "01/26/2017  04:57 PM         2,525,038 atp_matches_futures_2002.csv\n",
      "01/26/2017  04:57 PM         2,698,152 atp_matches_futures_2003.csv\n",
      "01/26/2017  04:57 PM         2,834,117 atp_matches_futures_2004.csv\n",
      "01/26/2017  04:57 PM         3,006,759 atp_matches_futures_2005.csv\n",
      "01/26/2017  04:57 PM         3,111,186 atp_matches_futures_2006.csv\n",
      "01/26/2017  04:57 PM         3,083,881 atp_matches_futures_2007.csv\n",
      "01/26/2017  04:57 PM         3,300,704 atp_matches_futures_2008.csv\n",
      "01/26/2017  04:57 PM         3,045,840 atp_matches_futures_2009.csv\n",
      "01/26/2017  04:57 PM         2,952,211 atp_matches_futures_2010.csv\n",
      "01/26/2017  04:57 PM         3,269,173 atp_matches_futures_2011.csv\n",
      "01/26/2017  04:57 PM         3,603,645 atp_matches_futures_2012.csv\n",
      "01/26/2017  04:57 PM         3,937,338 atp_matches_futures_2013.csv\n",
      "01/26/2017  04:57 PM         4,160,085 atp_matches_futures_2014.csv\n",
      "01/26/2017  04:57 PM         4,060,932 atp_matches_futures_2015.csv\n",
      "01/26/2017  04:57 PM           138,050 atp_matches_futures_2016.csv\n",
      "01/26/2017  04:57 PM           546,272 atp_matches_qual_chall_1991.csv\n",
      "01/26/2017  04:57 PM           520,002 atp_matches_qual_chall_1992.csv\n",
      "01/26/2017  04:57 PM           563,074 atp_matches_qual_chall_1993.csv\n",
      "01/26/2017  04:57 PM           567,033 atp_matches_qual_chall_1994.csv\n",
      "01/26/2017  04:57 PM           497,866 atp_matches_qual_chall_1995.csv\n",
      "01/26/2017  04:57 PM           574,887 atp_matches_qual_chall_1996.csv\n",
      "01/26/2017  04:57 PM           631,184 atp_matches_qual_chall_1997.csv\n",
      "01/26/2017  04:57 PM           663,480 atp_matches_qual_chall_1998.csv\n",
      "01/26/2017  04:57 PM           677,149 atp_matches_qual_chall_1999.csv\n",
      "01/26/2017  04:57 PM           712,981 atp_matches_qual_chall_2000.csv\n",
      "01/26/2017  04:57 PM           796,993 atp_matches_qual_chall_2001.csv\n",
      "01/26/2017  04:57 PM           713,932 atp_matches_qual_chall_2002.csv\n",
      "01/26/2017  04:57 PM           798,402 atp_matches_qual_chall_2003.csv\n",
      "01/26/2017  04:57 PM           863,984 atp_matches_qual_chall_2004.csv\n",
      "01/26/2017  04:57 PM           885,185 atp_matches_qual_chall_2005.csv\n",
      "01/26/2017  04:57 PM           950,791 atp_matches_qual_chall_2006.csv\n",
      "01/26/2017  04:57 PM         1,344,825 atp_matches_qual_chall_2007.csv\n",
      "01/26/2017  04:57 PM         1,363,644 atp_matches_qual_chall_2008.csv\n",
      "01/26/2017  04:57 PM         1,295,006 atp_matches_qual_chall_2009.csv\n",
      "01/26/2017  04:57 PM         1,452,378 atp_matches_qual_chall_2010.csv\n",
      "01/26/2017  04:57 PM         1,401,677 atp_matches_qual_chall_2011.csv\n",
      "01/26/2017  04:57 PM         1,406,414 atp_matches_qual_chall_2012.csv\n",
      "01/26/2017  04:57 PM         1,412,009 atp_matches_qual_chall_2013.csv\n",
      "01/26/2017  04:57 PM         1,397,058 atp_matches_qual_chall_2014.csv\n",
      "01/26/2017  04:57 PM         1,448,618 atp_matches_qual_chall_2015.csv\n",
      "01/26/2017  04:57 PM           119,521 atp_matches_qual_chall_2016.csv\n",
      "01/26/2017  05:56 PM         1,680,581 atp_players.csv\n",
      "01/26/2017  04:57 PM        22,184,371 atp_rankings_00s.csv\n",
      "01/26/2017  04:57 PM        13,706,658 atp_rankings_10s.csv\n",
      "01/26/2017  04:57 PM           250,531 atp_rankings_70s.csv\n",
      "01/26/2017  04:57 PM         6,122,548 atp_rankings_80s.csv\n",
      "01/26/2017  04:57 PM        17,343,834 atp_rankings_90s.csv\n",
      "01/26/2017  04:57 PM           218,225 atp_rankings_current.csv\n",
      "01/26/2017  04:57 PM    <DIR>          examples\n",
      "01/26/2017  04:57 PM             3,062 README.md\n",
      "01/26/2017  05:47 PM            18,727 Tennis1.ipynb\n",
      "01/26/2017  05:53 PM            13,683 Tennis_playerID.ipynb\n",
      "             113 File(s)    189,232,083 bytes\n",
      "               4 Dir(s)  417,858,416,640 bytes free\n"
     ]
    }
   ],
   "source": [
    "! dir ..\\tennis_atp"
   ]
  },
  {
   "cell_type": "code",
   "execution_count": 37,
   "metadata": {
    "collapsed": false
   },
   "outputs": [
    {
     "data": {
      "text/plain": [
       "pandas.core.frame.DataFrame"
      ]
     },
     "execution_count": 37,
     "metadata": {},
     "output_type": "execute_result"
    }
   ],
   "source": [
    "playerID = pd.read_csv(\"../tennis_atp/atp_players.csv\", encoding='latin-1')\n",
    "type(playerID)"
   ]
  },
  {
   "cell_type": "code",
   "execution_count": 38,
   "metadata": {
    "collapsed": false
   },
   "outputs": [
    {
     "data": {
      "text/html": [
       "<div>\n",
       "<table border=\"1\" class=\"dataframe\">\n",
       "  <thead>\n",
       "    <tr style=\"text-align: right;\">\n",
       "      <th></th>\n",
       "      <th>PlayerID</th>\n",
       "      <th>First Name</th>\n",
       "      <th>Last Name</th>\n",
       "      <th>Handed</th>\n",
       "      <th>Birth Date</th>\n",
       "      <th>Country</th>\n",
       "    </tr>\n",
       "  </thead>\n",
       "  <tbody>\n",
       "    <tr>\n",
       "      <th>0</th>\n",
       "      <td>100001</td>\n",
       "      <td>Gardnar</td>\n",
       "      <td>Mulloy</td>\n",
       "      <td>R</td>\n",
       "      <td>19131122.0</td>\n",
       "      <td>USA</td>\n",
       "    </tr>\n",
       "    <tr>\n",
       "      <th>1</th>\n",
       "      <td>100002</td>\n",
       "      <td>Pancho</td>\n",
       "      <td>Segura</td>\n",
       "      <td>R</td>\n",
       "      <td>19210620.0</td>\n",
       "      <td>ECU</td>\n",
       "    </tr>\n",
       "    <tr>\n",
       "      <th>2</th>\n",
       "      <td>100003</td>\n",
       "      <td>Frank</td>\n",
       "      <td>Sedgman</td>\n",
       "      <td>R</td>\n",
       "      <td>19271002.0</td>\n",
       "      <td>AUS</td>\n",
       "    </tr>\n",
       "    <tr>\n",
       "      <th>3</th>\n",
       "      <td>100004</td>\n",
       "      <td>Giuseppe</td>\n",
       "      <td>Merlo</td>\n",
       "      <td>R</td>\n",
       "      <td>19271011.0</td>\n",
       "      <td>ITA</td>\n",
       "    </tr>\n",
       "    <tr>\n",
       "      <th>4</th>\n",
       "      <td>100005</td>\n",
       "      <td>Richard Pancho</td>\n",
       "      <td>Gonzales</td>\n",
       "      <td>R</td>\n",
       "      <td>19280509.0</td>\n",
       "      <td>USA</td>\n",
       "    </tr>\n",
       "  </tbody>\n",
       "</table>\n",
       "</div>"
      ],
      "text/plain": [
       "   PlayerID      First Name Last Name Handed  Birth Date Country\n",
       "0    100001         Gardnar    Mulloy      R  19131122.0     USA\n",
       "1    100002          Pancho    Segura      R  19210620.0     ECU\n",
       "2    100003           Frank   Sedgman      R  19271002.0     AUS\n",
       "3    100004        Giuseppe     Merlo      R  19271011.0     ITA\n",
       "4    100005  Richard Pancho  Gonzales      R  19280509.0     USA"
      ]
     },
     "execution_count": 38,
     "metadata": {},
     "output_type": "execute_result"
    }
   ],
   "source": [
    "playerID.head()"
   ]
  },
  {
   "cell_type": "code",
   "execution_count": 39,
   "metadata": {
    "collapsed": false
   },
   "outputs": [
    {
     "data": {
      "text/plain": [
       "Index(['PlayerID', 'First Name', 'Last Name', 'Handed', 'Birth Date',\n",
       "       'Country'],\n",
       "      dtype='object')"
      ]
     },
     "execution_count": 39,
     "metadata": {},
     "output_type": "execute_result"
    }
   ],
   "source": [
    "playerID.columns"
   ]
  },
  {
   "cell_type": "code",
   "execution_count": 42,
   "metadata": {
    "collapsed": false
   },
   "outputs": [],
   "source": [
    "playerID = playerID.drop(['Handed','Birth Date','Country'], axis = 1)"
   ]
  },
  {
   "cell_type": "code",
   "execution_count": 43,
   "metadata": {
    "collapsed": false
   },
   "outputs": [
    {
     "data": {
      "text/html": [
       "<div>\n",
       "<table border=\"1\" class=\"dataframe\">\n",
       "  <thead>\n",
       "    <tr style=\"text-align: right;\">\n",
       "      <th></th>\n",
       "      <th>PlayerID</th>\n",
       "      <th>First Name</th>\n",
       "      <th>Last Name</th>\n",
       "    </tr>\n",
       "  </thead>\n",
       "  <tbody>\n",
       "    <tr>\n",
       "      <th>0</th>\n",
       "      <td>100001</td>\n",
       "      <td>Gardnar</td>\n",
       "      <td>Mulloy</td>\n",
       "    </tr>\n",
       "    <tr>\n",
       "      <th>1</th>\n",
       "      <td>100002</td>\n",
       "      <td>Pancho</td>\n",
       "      <td>Segura</td>\n",
       "    </tr>\n",
       "    <tr>\n",
       "      <th>2</th>\n",
       "      <td>100003</td>\n",
       "      <td>Frank</td>\n",
       "      <td>Sedgman</td>\n",
       "    </tr>\n",
       "    <tr>\n",
       "      <th>3</th>\n",
       "      <td>100004</td>\n",
       "      <td>Giuseppe</td>\n",
       "      <td>Merlo</td>\n",
       "    </tr>\n",
       "    <tr>\n",
       "      <th>4</th>\n",
       "      <td>100005</td>\n",
       "      <td>Richard Pancho</td>\n",
       "      <td>Gonzales</td>\n",
       "    </tr>\n",
       "  </tbody>\n",
       "</table>\n",
       "</div>"
      ],
      "text/plain": [
       "   PlayerID      First Name Last Name\n",
       "0    100001         Gardnar    Mulloy\n",
       "1    100002          Pancho    Segura\n",
       "2    100003           Frank   Sedgman\n",
       "3    100004        Giuseppe     Merlo\n",
       "4    100005  Richard Pancho  Gonzales"
      ]
     },
     "execution_count": 43,
     "metadata": {},
     "output_type": "execute_result"
    }
   ],
   "source": [
    "playerID.head()"
   ]
  },
  {
   "cell_type": "code",
   "execution_count": null,
   "metadata": {
    "collapsed": true
   },
   "outputs": [],
   "source": []
  }
 ],
 "metadata": {
  "anaconda-cloud": {},
  "kernelspec": {
   "display_name": "Python [conda root]",
   "language": "python",
   "name": "conda-root-py"
  },
  "language_info": {
   "codemirror_mode": {
    "name": "ipython",
    "version": 3
   },
   "file_extension": ".py",
   "mimetype": "text/x-python",
   "name": "python",
   "nbconvert_exporter": "python",
   "pygments_lexer": "ipython3",
   "version": "3.5.2"
  }
 },
 "nbformat": 4,
 "nbformat_minor": 1
}
